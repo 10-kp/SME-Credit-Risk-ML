{
  "nbformat": 4,
  "nbformat_minor": 0,
  "metadata": {
    "colab": {
      "provenance": []
    },
    "kernelspec": {
      "name": "python3",
      "display_name": "Python 3"
    },
    "language_info": {
      "name": "python"
    },
    "widgets": {
      "application/vnd.jupyter.widget-state+json": {
        "315a71a5666d4dfd9369b69e8d33ad89": {
          "model_module": "@jupyter-widgets/controls",
          "model_name": "HBoxModel",
          "model_module_version": "1.5.0",
          "state": {
            "_dom_classes": [],
            "_model_module": "@jupyter-widgets/controls",
            "_model_module_version": "1.5.0",
            "_model_name": "HBoxModel",
            "_view_count": null,
            "_view_module": "@jupyter-widgets/controls",
            "_view_module_version": "1.5.0",
            "_view_name": "HBoxView",
            "box_style": "",
            "children": [
              "IPY_MODEL_40b3913f38a94650a3d02258fd7b0c26",
              "IPY_MODEL_e82ae359127a430f8d5a04fc56365e8c",
              "IPY_MODEL_c0d5ab3eaa0d48c992d8bb34bff79868"
            ],
            "layout": "IPY_MODEL_84ca76e51ccb4595b7509fd15faeef16"
          }
        },
        "40b3913f38a94650a3d02258fd7b0c26": {
          "model_module": "@jupyter-widgets/controls",
          "model_name": "HTMLModel",
          "model_module_version": "1.5.0",
          "state": {
            "_dom_classes": [],
            "_model_module": "@jupyter-widgets/controls",
            "_model_module_version": "1.5.0",
            "_model_name": "HTMLModel",
            "_view_count": null,
            "_view_module": "@jupyter-widgets/controls",
            "_view_module_version": "1.5.0",
            "_view_name": "HTMLView",
            "description": "",
            "description_tooltip": null,
            "layout": "IPY_MODEL_f5531e4414ba4658bcc3e7b138ee8c5b",
            "placeholder": "​",
            "style": "IPY_MODEL_696c5b5401a7495498c63f1c7845a249",
            "value": "Downloading artifacts:   0%"
          }
        },
        "e82ae359127a430f8d5a04fc56365e8c": {
          "model_module": "@jupyter-widgets/controls",
          "model_name": "FloatProgressModel",
          "model_module_version": "1.5.0",
          "state": {
            "_dom_classes": [],
            "_model_module": "@jupyter-widgets/controls",
            "_model_module_version": "1.5.0",
            "_model_name": "FloatProgressModel",
            "_view_count": null,
            "_view_module": "@jupyter-widgets/controls",
            "_view_module_version": "1.5.0",
            "_view_name": "ProgressView",
            "bar_style": "danger",
            "description": "",
            "description_tooltip": null,
            "layout": "IPY_MODEL_cf389789e26842bda3bf2365ff633ac2",
            "max": 1,
            "min": 0,
            "orientation": "horizontal",
            "style": "IPY_MODEL_19ee5a73b4f145968fb9f9c9ed438521",
            "value": 0
          }
        },
        "c0d5ab3eaa0d48c992d8bb34bff79868": {
          "model_module": "@jupyter-widgets/controls",
          "model_name": "HTMLModel",
          "model_module_version": "1.5.0",
          "state": {
            "_dom_classes": [],
            "_model_module": "@jupyter-widgets/controls",
            "_model_module_version": "1.5.0",
            "_model_name": "HTMLModel",
            "_view_count": null,
            "_view_module": "@jupyter-widgets/controls",
            "_view_module_version": "1.5.0",
            "_view_name": "HTMLView",
            "description": "",
            "description_tooltip": null,
            "layout": "IPY_MODEL_5bf4f5d362744f7a81723b539dc9aac5",
            "placeholder": "​",
            "style": "IPY_MODEL_f82d22acc5184230aa3d235b4c63e28e",
            "value": " 0/1 [00:00&lt;?, ?it/s]"
          }
        },
        "84ca76e51ccb4595b7509fd15faeef16": {
          "model_module": "@jupyter-widgets/base",
          "model_name": "LayoutModel",
          "model_module_version": "1.2.0",
          "state": {
            "_model_module": "@jupyter-widgets/base",
            "_model_module_version": "1.2.0",
            "_model_name": "LayoutModel",
            "_view_count": null,
            "_view_module": "@jupyter-widgets/base",
            "_view_module_version": "1.2.0",
            "_view_name": "LayoutView",
            "align_content": null,
            "align_items": null,
            "align_self": null,
            "border": null,
            "bottom": null,
            "display": null,
            "flex": null,
            "flex_flow": null,
            "grid_area": null,
            "grid_auto_columns": null,
            "grid_auto_flow": null,
            "grid_auto_rows": null,
            "grid_column": null,
            "grid_gap": null,
            "grid_row": null,
            "grid_template_areas": null,
            "grid_template_columns": null,
            "grid_template_rows": null,
            "height": null,
            "justify_content": null,
            "justify_items": null,
            "left": null,
            "margin": null,
            "max_height": null,
            "max_width": null,
            "min_height": null,
            "min_width": null,
            "object_fit": null,
            "object_position": null,
            "order": null,
            "overflow": null,
            "overflow_x": null,
            "overflow_y": null,
            "padding": null,
            "right": null,
            "top": null,
            "visibility": null,
            "width": null
          }
        },
        "f5531e4414ba4658bcc3e7b138ee8c5b": {
          "model_module": "@jupyter-widgets/base",
          "model_name": "LayoutModel",
          "model_module_version": "1.2.0",
          "state": {
            "_model_module": "@jupyter-widgets/base",
            "_model_module_version": "1.2.0",
            "_model_name": "LayoutModel",
            "_view_count": null,
            "_view_module": "@jupyter-widgets/base",
            "_view_module_version": "1.2.0",
            "_view_name": "LayoutView",
            "align_content": null,
            "align_items": null,
            "align_self": null,
            "border": null,
            "bottom": null,
            "display": null,
            "flex": null,
            "flex_flow": null,
            "grid_area": null,
            "grid_auto_columns": null,
            "grid_auto_flow": null,
            "grid_auto_rows": null,
            "grid_column": null,
            "grid_gap": null,
            "grid_row": null,
            "grid_template_areas": null,
            "grid_template_columns": null,
            "grid_template_rows": null,
            "height": null,
            "justify_content": null,
            "justify_items": null,
            "left": null,
            "margin": null,
            "max_height": null,
            "max_width": null,
            "min_height": null,
            "min_width": null,
            "object_fit": null,
            "object_position": null,
            "order": null,
            "overflow": null,
            "overflow_x": null,
            "overflow_y": null,
            "padding": null,
            "right": null,
            "top": null,
            "visibility": null,
            "width": null
          }
        },
        "696c5b5401a7495498c63f1c7845a249": {
          "model_module": "@jupyter-widgets/controls",
          "model_name": "DescriptionStyleModel",
          "model_module_version": "1.5.0",
          "state": {
            "_model_module": "@jupyter-widgets/controls",
            "_model_module_version": "1.5.0",
            "_model_name": "DescriptionStyleModel",
            "_view_count": null,
            "_view_module": "@jupyter-widgets/base",
            "_view_module_version": "1.2.0",
            "_view_name": "StyleView",
            "description_width": ""
          }
        },
        "cf389789e26842bda3bf2365ff633ac2": {
          "model_module": "@jupyter-widgets/base",
          "model_name": "LayoutModel",
          "model_module_version": "1.2.0",
          "state": {
            "_model_module": "@jupyter-widgets/base",
            "_model_module_version": "1.2.0",
            "_model_name": "LayoutModel",
            "_view_count": null,
            "_view_module": "@jupyter-widgets/base",
            "_view_module_version": "1.2.0",
            "_view_name": "LayoutView",
            "align_content": null,
            "align_items": null,
            "align_self": null,
            "border": null,
            "bottom": null,
            "display": null,
            "flex": null,
            "flex_flow": null,
            "grid_area": null,
            "grid_auto_columns": null,
            "grid_auto_flow": null,
            "grid_auto_rows": null,
            "grid_column": null,
            "grid_gap": null,
            "grid_row": null,
            "grid_template_areas": null,
            "grid_template_columns": null,
            "grid_template_rows": null,
            "height": null,
            "justify_content": null,
            "justify_items": null,
            "left": null,
            "margin": null,
            "max_height": null,
            "max_width": null,
            "min_height": null,
            "min_width": null,
            "object_fit": null,
            "object_position": null,
            "order": null,
            "overflow": null,
            "overflow_x": null,
            "overflow_y": null,
            "padding": null,
            "right": null,
            "top": null,
            "visibility": null,
            "width": null
          }
        },
        "19ee5a73b4f145968fb9f9c9ed438521": {
          "model_module": "@jupyter-widgets/controls",
          "model_name": "ProgressStyleModel",
          "model_module_version": "1.5.0",
          "state": {
            "_model_module": "@jupyter-widgets/controls",
            "_model_module_version": "1.5.0",
            "_model_name": "ProgressStyleModel",
            "_view_count": null,
            "_view_module": "@jupyter-widgets/base",
            "_view_module_version": "1.2.0",
            "_view_name": "StyleView",
            "bar_color": null,
            "description_width": ""
          }
        },
        "5bf4f5d362744f7a81723b539dc9aac5": {
          "model_module": "@jupyter-widgets/base",
          "model_name": "LayoutModel",
          "model_module_version": "1.2.0",
          "state": {
            "_model_module": "@jupyter-widgets/base",
            "_model_module_version": "1.2.0",
            "_model_name": "LayoutModel",
            "_view_count": null,
            "_view_module": "@jupyter-widgets/base",
            "_view_module_version": "1.2.0",
            "_view_name": "LayoutView",
            "align_content": null,
            "align_items": null,
            "align_self": null,
            "border": null,
            "bottom": null,
            "display": null,
            "flex": null,
            "flex_flow": null,
            "grid_area": null,
            "grid_auto_columns": null,
            "grid_auto_flow": null,
            "grid_auto_rows": null,
            "grid_column": null,
            "grid_gap": null,
            "grid_row": null,
            "grid_template_areas": null,
            "grid_template_columns": null,
            "grid_template_rows": null,
            "height": null,
            "justify_content": null,
            "justify_items": null,
            "left": null,
            "margin": null,
            "max_height": null,
            "max_width": null,
            "min_height": null,
            "min_width": null,
            "object_fit": null,
            "object_position": null,
            "order": null,
            "overflow": null,
            "overflow_x": null,
            "overflow_y": null,
            "padding": null,
            "right": null,
            "top": null,
            "visibility": null,
            "width": null
          }
        },
        "f82d22acc5184230aa3d235b4c63e28e": {
          "model_module": "@jupyter-widgets/controls",
          "model_name": "DescriptionStyleModel",
          "model_module_version": "1.5.0",
          "state": {
            "_model_module": "@jupyter-widgets/controls",
            "_model_module_version": "1.5.0",
            "_model_name": "DescriptionStyleModel",
            "_view_count": null,
            "_view_module": "@jupyter-widgets/base",
            "_view_module_version": "1.2.0",
            "_view_name": "StyleView",
            "description_width": ""
          }
        },
        "b769ec73a5ae4527b86973a3ec6ec4b7": {
          "model_module": "@jupyter-widgets/controls",
          "model_name": "HBoxModel",
          "model_module_version": "1.5.0",
          "state": {
            "_dom_classes": [],
            "_model_module": "@jupyter-widgets/controls",
            "_model_module_version": "1.5.0",
            "_model_name": "HBoxModel",
            "_view_count": null,
            "_view_module": "@jupyter-widgets/controls",
            "_view_module_version": "1.5.0",
            "_view_name": "HBoxView",
            "box_style": "",
            "children": [
              "IPY_MODEL_12fabd4f4c9d431a8cf1a5415925f701",
              "IPY_MODEL_f06ed3daf48c4e54923293ddd8630988",
              "IPY_MODEL_2f7ca1bacb924b24a92d2930ecce3376"
            ],
            "layout": "IPY_MODEL_0ab6e167472746c4bdc5022e4f927c04"
          }
        },
        "12fabd4f4c9d431a8cf1a5415925f701": {
          "model_module": "@jupyter-widgets/controls",
          "model_name": "HTMLModel",
          "model_module_version": "1.5.0",
          "state": {
            "_dom_classes": [],
            "_model_module": "@jupyter-widgets/controls",
            "_model_module_version": "1.5.0",
            "_model_name": "HTMLModel",
            "_view_count": null,
            "_view_module": "@jupyter-widgets/controls",
            "_view_module_version": "1.5.0",
            "_view_name": "HTMLView",
            "description": "",
            "description_tooltip": null,
            "layout": "IPY_MODEL_dbc11726c9b24cdba96d655ded9c2b5b",
            "placeholder": "​",
            "style": "IPY_MODEL_cf8abf6732b142df823f009d56f15e14",
            "value": "Downloading artifacts: 100%"
          }
        },
        "f06ed3daf48c4e54923293ddd8630988": {
          "model_module": "@jupyter-widgets/controls",
          "model_name": "FloatProgressModel",
          "model_module_version": "1.5.0",
          "state": {
            "_dom_classes": [],
            "_model_module": "@jupyter-widgets/controls",
            "_model_module_version": "1.5.0",
            "_model_name": "FloatProgressModel",
            "_view_count": null,
            "_view_module": "@jupyter-widgets/controls",
            "_view_module_version": "1.5.0",
            "_view_name": "ProgressView",
            "bar_style": "success",
            "description": "",
            "description_tooltip": null,
            "layout": "IPY_MODEL_c5b9fb84e1ff4db38d6b15fa8fd898a9",
            "max": 5,
            "min": 0,
            "orientation": "horizontal",
            "style": "IPY_MODEL_8b84e9d4fc784a4b836ffb583097a996",
            "value": 5
          }
        },
        "2f7ca1bacb924b24a92d2930ecce3376": {
          "model_module": "@jupyter-widgets/controls",
          "model_name": "HTMLModel",
          "model_module_version": "1.5.0",
          "state": {
            "_dom_classes": [],
            "_model_module": "@jupyter-widgets/controls",
            "_model_module_version": "1.5.0",
            "_model_name": "HTMLModel",
            "_view_count": null,
            "_view_module": "@jupyter-widgets/controls",
            "_view_module_version": "1.5.0",
            "_view_name": "HTMLView",
            "description": "",
            "description_tooltip": null,
            "layout": "IPY_MODEL_4e2bba2952c3491abfa9b659ebc8e2db",
            "placeholder": "​",
            "style": "IPY_MODEL_66fa2e99b28c47ac9a09a573856efd32",
            "value": " 5/5 [00:00&lt;00:00, 210.64it/s]"
          }
        },
        "0ab6e167472746c4bdc5022e4f927c04": {
          "model_module": "@jupyter-widgets/base",
          "model_name": "LayoutModel",
          "model_module_version": "1.2.0",
          "state": {
            "_model_module": "@jupyter-widgets/base",
            "_model_module_version": "1.2.0",
            "_model_name": "LayoutModel",
            "_view_count": null,
            "_view_module": "@jupyter-widgets/base",
            "_view_module_version": "1.2.0",
            "_view_name": "LayoutView",
            "align_content": null,
            "align_items": null,
            "align_self": null,
            "border": null,
            "bottom": null,
            "display": null,
            "flex": null,
            "flex_flow": null,
            "grid_area": null,
            "grid_auto_columns": null,
            "grid_auto_flow": null,
            "grid_auto_rows": null,
            "grid_column": null,
            "grid_gap": null,
            "grid_row": null,
            "grid_template_areas": null,
            "grid_template_columns": null,
            "grid_template_rows": null,
            "height": null,
            "justify_content": null,
            "justify_items": null,
            "left": null,
            "margin": null,
            "max_height": null,
            "max_width": null,
            "min_height": null,
            "min_width": null,
            "object_fit": null,
            "object_position": null,
            "order": null,
            "overflow": null,
            "overflow_x": null,
            "overflow_y": null,
            "padding": null,
            "right": null,
            "top": null,
            "visibility": null,
            "width": null
          }
        },
        "dbc11726c9b24cdba96d655ded9c2b5b": {
          "model_module": "@jupyter-widgets/base",
          "model_name": "LayoutModel",
          "model_module_version": "1.2.0",
          "state": {
            "_model_module": "@jupyter-widgets/base",
            "_model_module_version": "1.2.0",
            "_model_name": "LayoutModel",
            "_view_count": null,
            "_view_module": "@jupyter-widgets/base",
            "_view_module_version": "1.2.0",
            "_view_name": "LayoutView",
            "align_content": null,
            "align_items": null,
            "align_self": null,
            "border": null,
            "bottom": null,
            "display": null,
            "flex": null,
            "flex_flow": null,
            "grid_area": null,
            "grid_auto_columns": null,
            "grid_auto_flow": null,
            "grid_auto_rows": null,
            "grid_column": null,
            "grid_gap": null,
            "grid_row": null,
            "grid_template_areas": null,
            "grid_template_columns": null,
            "grid_template_rows": null,
            "height": null,
            "justify_content": null,
            "justify_items": null,
            "left": null,
            "margin": null,
            "max_height": null,
            "max_width": null,
            "min_height": null,
            "min_width": null,
            "object_fit": null,
            "object_position": null,
            "order": null,
            "overflow": null,
            "overflow_x": null,
            "overflow_y": null,
            "padding": null,
            "right": null,
            "top": null,
            "visibility": null,
            "width": null
          }
        },
        "cf8abf6732b142df823f009d56f15e14": {
          "model_module": "@jupyter-widgets/controls",
          "model_name": "DescriptionStyleModel",
          "model_module_version": "1.5.0",
          "state": {
            "_model_module": "@jupyter-widgets/controls",
            "_model_module_version": "1.5.0",
            "_model_name": "DescriptionStyleModel",
            "_view_count": null,
            "_view_module": "@jupyter-widgets/base",
            "_view_module_version": "1.2.0",
            "_view_name": "StyleView",
            "description_width": ""
          }
        },
        "c5b9fb84e1ff4db38d6b15fa8fd898a9": {
          "model_module": "@jupyter-widgets/base",
          "model_name": "LayoutModel",
          "model_module_version": "1.2.0",
          "state": {
            "_model_module": "@jupyter-widgets/base",
            "_model_module_version": "1.2.0",
            "_model_name": "LayoutModel",
            "_view_count": null,
            "_view_module": "@jupyter-widgets/base",
            "_view_module_version": "1.2.0",
            "_view_name": "LayoutView",
            "align_content": null,
            "align_items": null,
            "align_self": null,
            "border": null,
            "bottom": null,
            "display": null,
            "flex": null,
            "flex_flow": null,
            "grid_area": null,
            "grid_auto_columns": null,
            "grid_auto_flow": null,
            "grid_auto_rows": null,
            "grid_column": null,
            "grid_gap": null,
            "grid_row": null,
            "grid_template_areas": null,
            "grid_template_columns": null,
            "grid_template_rows": null,
            "height": null,
            "justify_content": null,
            "justify_items": null,
            "left": null,
            "margin": null,
            "max_height": null,
            "max_width": null,
            "min_height": null,
            "min_width": null,
            "object_fit": null,
            "object_position": null,
            "order": null,
            "overflow": null,
            "overflow_x": null,
            "overflow_y": null,
            "padding": null,
            "right": null,
            "top": null,
            "visibility": null,
            "width": null
          }
        },
        "8b84e9d4fc784a4b836ffb583097a996": {
          "model_module": "@jupyter-widgets/controls",
          "model_name": "ProgressStyleModel",
          "model_module_version": "1.5.0",
          "state": {
            "_model_module": "@jupyter-widgets/controls",
            "_model_module_version": "1.5.0",
            "_model_name": "ProgressStyleModel",
            "_view_count": null,
            "_view_module": "@jupyter-widgets/base",
            "_view_module_version": "1.2.0",
            "_view_name": "StyleView",
            "bar_color": null,
            "description_width": ""
          }
        },
        "4e2bba2952c3491abfa9b659ebc8e2db": {
          "model_module": "@jupyter-widgets/base",
          "model_name": "LayoutModel",
          "model_module_version": "1.2.0",
          "state": {
            "_model_module": "@jupyter-widgets/base",
            "_model_module_version": "1.2.0",
            "_model_name": "LayoutModel",
            "_view_count": null,
            "_view_module": "@jupyter-widgets/base",
            "_view_module_version": "1.2.0",
            "_view_name": "LayoutView",
            "align_content": null,
            "align_items": null,
            "align_self": null,
            "border": null,
            "bottom": null,
            "display": null,
            "flex": null,
            "flex_flow": null,
            "grid_area": null,
            "grid_auto_columns": null,
            "grid_auto_flow": null,
            "grid_auto_rows": null,
            "grid_column": null,
            "grid_gap": null,
            "grid_row": null,
            "grid_template_areas": null,
            "grid_template_columns": null,
            "grid_template_rows": null,
            "height": null,
            "justify_content": null,
            "justify_items": null,
            "left": null,
            "margin": null,
            "max_height": null,
            "max_width": null,
            "min_height": null,
            "min_width": null,
            "object_fit": null,
            "object_position": null,
            "order": null,
            "overflow": null,
            "overflow_x": null,
            "overflow_y": null,
            "padding": null,
            "right": null,
            "top": null,
            "visibility": null,
            "width": null
          }
        },
        "66fa2e99b28c47ac9a09a573856efd32": {
          "model_module": "@jupyter-widgets/controls",
          "model_name": "DescriptionStyleModel",
          "model_module_version": "1.5.0",
          "state": {
            "_model_module": "@jupyter-widgets/controls",
            "_model_module_version": "1.5.0",
            "_model_name": "DescriptionStyleModel",
            "_view_count": null,
            "_view_module": "@jupyter-widgets/base",
            "_view_module_version": "1.2.0",
            "_view_name": "StyleView",
            "description_width": ""
          }
        },
        "536a93bc23604105a8d028234db33b18": {
          "model_module": "@jupyter-widgets/controls",
          "model_name": "HBoxModel",
          "model_module_version": "1.5.0",
          "state": {
            "_dom_classes": [],
            "_model_module": "@jupyter-widgets/controls",
            "_model_module_version": "1.5.0",
            "_model_name": "HBoxModel",
            "_view_count": null,
            "_view_module": "@jupyter-widgets/controls",
            "_view_module_version": "1.5.0",
            "_view_name": "HBoxView",
            "box_style": "",
            "children": [
              "IPY_MODEL_8c4fe5c6f2644a78a3612185cf1a1176",
              "IPY_MODEL_4d4d584aa5264912ac3e585ccb3a293e",
              "IPY_MODEL_c5a275e5ed0c4f189ac20295eb952d43"
            ],
            "layout": "IPY_MODEL_5208b4459fbf4834a6b852149d839262"
          }
        },
        "8c4fe5c6f2644a78a3612185cf1a1176": {
          "model_module": "@jupyter-widgets/controls",
          "model_name": "HTMLModel",
          "model_module_version": "1.5.0",
          "state": {
            "_dom_classes": [],
            "_model_module": "@jupyter-widgets/controls",
            "_model_module_version": "1.5.0",
            "_model_name": "HTMLModel",
            "_view_count": null,
            "_view_module": "@jupyter-widgets/controls",
            "_view_module_version": "1.5.0",
            "_view_name": "HTMLView",
            "description": "",
            "description_tooltip": null,
            "layout": "IPY_MODEL_9975d66d7d314b06a46a83711b084d9b",
            "placeholder": "​",
            "style": "IPY_MODEL_6b3cb7293cd84a4dbb1af65e27ad70d9",
            "value": "Downloading artifacts:   0%"
          }
        },
        "4d4d584aa5264912ac3e585ccb3a293e": {
          "model_module": "@jupyter-widgets/controls",
          "model_name": "FloatProgressModel",
          "model_module_version": "1.5.0",
          "state": {
            "_dom_classes": [],
            "_model_module": "@jupyter-widgets/controls",
            "_model_module_version": "1.5.0",
            "_model_name": "FloatProgressModel",
            "_view_count": null,
            "_view_module": "@jupyter-widgets/controls",
            "_view_module_version": "1.5.0",
            "_view_name": "ProgressView",
            "bar_style": "danger",
            "description": "",
            "description_tooltip": null,
            "layout": "IPY_MODEL_eabba00cc0744a7798d4692b25c82b1c",
            "max": 1,
            "min": 0,
            "orientation": "horizontal",
            "style": "IPY_MODEL_b77ecdc820ab4e5e823f088c5808267b",
            "value": 0
          }
        },
        "c5a275e5ed0c4f189ac20295eb952d43": {
          "model_module": "@jupyter-widgets/controls",
          "model_name": "HTMLModel",
          "model_module_version": "1.5.0",
          "state": {
            "_dom_classes": [],
            "_model_module": "@jupyter-widgets/controls",
            "_model_module_version": "1.5.0",
            "_model_name": "HTMLModel",
            "_view_count": null,
            "_view_module": "@jupyter-widgets/controls",
            "_view_module_version": "1.5.0",
            "_view_name": "HTMLView",
            "description": "",
            "description_tooltip": null,
            "layout": "IPY_MODEL_d8cf04a059cd464c82f871c6a605eff8",
            "placeholder": "​",
            "style": "IPY_MODEL_3794c68ab3e64ab680568b14cd2791f1",
            "value": " 0/1 [00:00&lt;?, ?it/s]"
          }
        },
        "5208b4459fbf4834a6b852149d839262": {
          "model_module": "@jupyter-widgets/base",
          "model_name": "LayoutModel",
          "model_module_version": "1.2.0",
          "state": {
            "_model_module": "@jupyter-widgets/base",
            "_model_module_version": "1.2.0",
            "_model_name": "LayoutModel",
            "_view_count": null,
            "_view_module": "@jupyter-widgets/base",
            "_view_module_version": "1.2.0",
            "_view_name": "LayoutView",
            "align_content": null,
            "align_items": null,
            "align_self": null,
            "border": null,
            "bottom": null,
            "display": null,
            "flex": null,
            "flex_flow": null,
            "grid_area": null,
            "grid_auto_columns": null,
            "grid_auto_flow": null,
            "grid_auto_rows": null,
            "grid_column": null,
            "grid_gap": null,
            "grid_row": null,
            "grid_template_areas": null,
            "grid_template_columns": null,
            "grid_template_rows": null,
            "height": null,
            "justify_content": null,
            "justify_items": null,
            "left": null,
            "margin": null,
            "max_height": null,
            "max_width": null,
            "min_height": null,
            "min_width": null,
            "object_fit": null,
            "object_position": null,
            "order": null,
            "overflow": null,
            "overflow_x": null,
            "overflow_y": null,
            "padding": null,
            "right": null,
            "top": null,
            "visibility": null,
            "width": null
          }
        },
        "9975d66d7d314b06a46a83711b084d9b": {
          "model_module": "@jupyter-widgets/base",
          "model_name": "LayoutModel",
          "model_module_version": "1.2.0",
          "state": {
            "_model_module": "@jupyter-widgets/base",
            "_model_module_version": "1.2.0",
            "_model_name": "LayoutModel",
            "_view_count": null,
            "_view_module": "@jupyter-widgets/base",
            "_view_module_version": "1.2.0",
            "_view_name": "LayoutView",
            "align_content": null,
            "align_items": null,
            "align_self": null,
            "border": null,
            "bottom": null,
            "display": null,
            "flex": null,
            "flex_flow": null,
            "grid_area": null,
            "grid_auto_columns": null,
            "grid_auto_flow": null,
            "grid_auto_rows": null,
            "grid_column": null,
            "grid_gap": null,
            "grid_row": null,
            "grid_template_areas": null,
            "grid_template_columns": null,
            "grid_template_rows": null,
            "height": null,
            "justify_content": null,
            "justify_items": null,
            "left": null,
            "margin": null,
            "max_height": null,
            "max_width": null,
            "min_height": null,
            "min_width": null,
            "object_fit": null,
            "object_position": null,
            "order": null,
            "overflow": null,
            "overflow_x": null,
            "overflow_y": null,
            "padding": null,
            "right": null,
            "top": null,
            "visibility": null,
            "width": null
          }
        },
        "6b3cb7293cd84a4dbb1af65e27ad70d9": {
          "model_module": "@jupyter-widgets/controls",
          "model_name": "DescriptionStyleModel",
          "model_module_version": "1.5.0",
          "state": {
            "_model_module": "@jupyter-widgets/controls",
            "_model_module_version": "1.5.0",
            "_model_name": "DescriptionStyleModel",
            "_view_count": null,
            "_view_module": "@jupyter-widgets/base",
            "_view_module_version": "1.2.0",
            "_view_name": "StyleView",
            "description_width": ""
          }
        },
        "eabba00cc0744a7798d4692b25c82b1c": {
          "model_module": "@jupyter-widgets/base",
          "model_name": "LayoutModel",
          "model_module_version": "1.2.0",
          "state": {
            "_model_module": "@jupyter-widgets/base",
            "_model_module_version": "1.2.0",
            "_model_name": "LayoutModel",
            "_view_count": null,
            "_view_module": "@jupyter-widgets/base",
            "_view_module_version": "1.2.0",
            "_view_name": "LayoutView",
            "align_content": null,
            "align_items": null,
            "align_self": null,
            "border": null,
            "bottom": null,
            "display": null,
            "flex": null,
            "flex_flow": null,
            "grid_area": null,
            "grid_auto_columns": null,
            "grid_auto_flow": null,
            "grid_auto_rows": null,
            "grid_column": null,
            "grid_gap": null,
            "grid_row": null,
            "grid_template_areas": null,
            "grid_template_columns": null,
            "grid_template_rows": null,
            "height": null,
            "justify_content": null,
            "justify_items": null,
            "left": null,
            "margin": null,
            "max_height": null,
            "max_width": null,
            "min_height": null,
            "min_width": null,
            "object_fit": null,
            "object_position": null,
            "order": null,
            "overflow": null,
            "overflow_x": null,
            "overflow_y": null,
            "padding": null,
            "right": null,
            "top": null,
            "visibility": null,
            "width": null
          }
        },
        "b77ecdc820ab4e5e823f088c5808267b": {
          "model_module": "@jupyter-widgets/controls",
          "model_name": "ProgressStyleModel",
          "model_module_version": "1.5.0",
          "state": {
            "_model_module": "@jupyter-widgets/controls",
            "_model_module_version": "1.5.0",
            "_model_name": "ProgressStyleModel",
            "_view_count": null,
            "_view_module": "@jupyter-widgets/base",
            "_view_module_version": "1.2.0",
            "_view_name": "StyleView",
            "bar_color": null,
            "description_width": ""
          }
        },
        "d8cf04a059cd464c82f871c6a605eff8": {
          "model_module": "@jupyter-widgets/base",
          "model_name": "LayoutModel",
          "model_module_version": "1.2.0",
          "state": {
            "_model_module": "@jupyter-widgets/base",
            "_model_module_version": "1.2.0",
            "_model_name": "LayoutModel",
            "_view_count": null,
            "_view_module": "@jupyter-widgets/base",
            "_view_module_version": "1.2.0",
            "_view_name": "LayoutView",
            "align_content": null,
            "align_items": null,
            "align_self": null,
            "border": null,
            "bottom": null,
            "display": null,
            "flex": null,
            "flex_flow": null,
            "grid_area": null,
            "grid_auto_columns": null,
            "grid_auto_flow": null,
            "grid_auto_rows": null,
            "grid_column": null,
            "grid_gap": null,
            "grid_row": null,
            "grid_template_areas": null,
            "grid_template_columns": null,
            "grid_template_rows": null,
            "height": null,
            "justify_content": null,
            "justify_items": null,
            "left": null,
            "margin": null,
            "max_height": null,
            "max_width": null,
            "min_height": null,
            "min_width": null,
            "object_fit": null,
            "object_position": null,
            "order": null,
            "overflow": null,
            "overflow_x": null,
            "overflow_y": null,
            "padding": null,
            "right": null,
            "top": null,
            "visibility": null,
            "width": null
          }
        },
        "3794c68ab3e64ab680568b14cd2791f1": {
          "model_module": "@jupyter-widgets/controls",
          "model_name": "DescriptionStyleModel",
          "model_module_version": "1.5.0",
          "state": {
            "_model_module": "@jupyter-widgets/controls",
            "_model_module_version": "1.5.0",
            "_model_name": "DescriptionStyleModel",
            "_view_count": null,
            "_view_module": "@jupyter-widgets/base",
            "_view_module_version": "1.2.0",
            "_view_name": "StyleView",
            "description_width": ""
          }
        },
        "8ac81c1762644c8bb469ebc10ae03f7e": {
          "model_module": "@jupyter-widgets/controls",
          "model_name": "HBoxModel",
          "model_module_version": "1.5.0",
          "state": {
            "_dom_classes": [],
            "_model_module": "@jupyter-widgets/controls",
            "_model_module_version": "1.5.0",
            "_model_name": "HBoxModel",
            "_view_count": null,
            "_view_module": "@jupyter-widgets/controls",
            "_view_module_version": "1.5.0",
            "_view_name": "HBoxView",
            "box_style": "",
            "children": [
              "IPY_MODEL_e3628058c0b2406eafd67319623dec47",
              "IPY_MODEL_4e76394f414d4b3496ea801de4c53d76",
              "IPY_MODEL_cdd9642814824d669ac85c794c6db153"
            ],
            "layout": "IPY_MODEL_0a834a5fce2044ffab2a2f26df5c42a8"
          }
        },
        "e3628058c0b2406eafd67319623dec47": {
          "model_module": "@jupyter-widgets/controls",
          "model_name": "HTMLModel",
          "model_module_version": "1.5.0",
          "state": {
            "_dom_classes": [],
            "_model_module": "@jupyter-widgets/controls",
            "_model_module_version": "1.5.0",
            "_model_name": "HTMLModel",
            "_view_count": null,
            "_view_module": "@jupyter-widgets/controls",
            "_view_module_version": "1.5.0",
            "_view_name": "HTMLView",
            "description": "",
            "description_tooltip": null,
            "layout": "IPY_MODEL_46190f96bb0f4161995b5a334b621f7e",
            "placeholder": "​",
            "style": "IPY_MODEL_6a9fd99613224e7c95ef59a319486b65",
            "value": "Downloading artifacts: 100%"
          }
        },
        "4e76394f414d4b3496ea801de4c53d76": {
          "model_module": "@jupyter-widgets/controls",
          "model_name": "FloatProgressModel",
          "model_module_version": "1.5.0",
          "state": {
            "_dom_classes": [],
            "_model_module": "@jupyter-widgets/controls",
            "_model_module_version": "1.5.0",
            "_model_name": "FloatProgressModel",
            "_view_count": null,
            "_view_module": "@jupyter-widgets/controls",
            "_view_module_version": "1.5.0",
            "_view_name": "ProgressView",
            "bar_style": "success",
            "description": "",
            "description_tooltip": null,
            "layout": "IPY_MODEL_ddc115b0ffef4259b88d73d78d455107",
            "max": 5,
            "min": 0,
            "orientation": "horizontal",
            "style": "IPY_MODEL_a0e07fc9a5ac47b692d1cc5b0e9d3b23",
            "value": 5
          }
        },
        "cdd9642814824d669ac85c794c6db153": {
          "model_module": "@jupyter-widgets/controls",
          "model_name": "HTMLModel",
          "model_module_version": "1.5.0",
          "state": {
            "_dom_classes": [],
            "_model_module": "@jupyter-widgets/controls",
            "_model_module_version": "1.5.0",
            "_model_name": "HTMLModel",
            "_view_count": null,
            "_view_module": "@jupyter-widgets/controls",
            "_view_module_version": "1.5.0",
            "_view_name": "HTMLView",
            "description": "",
            "description_tooltip": null,
            "layout": "IPY_MODEL_28a1d330459149aead9e0fc4521d8f32",
            "placeholder": "​",
            "style": "IPY_MODEL_4acb872b2f6c4144a0ba451d4247b065",
            "value": " 5/5 [00:00&lt;00:00, 287.06it/s]"
          }
        },
        "0a834a5fce2044ffab2a2f26df5c42a8": {
          "model_module": "@jupyter-widgets/base",
          "model_name": "LayoutModel",
          "model_module_version": "1.2.0",
          "state": {
            "_model_module": "@jupyter-widgets/base",
            "_model_module_version": "1.2.0",
            "_model_name": "LayoutModel",
            "_view_count": null,
            "_view_module": "@jupyter-widgets/base",
            "_view_module_version": "1.2.0",
            "_view_name": "LayoutView",
            "align_content": null,
            "align_items": null,
            "align_self": null,
            "border": null,
            "bottom": null,
            "display": null,
            "flex": null,
            "flex_flow": null,
            "grid_area": null,
            "grid_auto_columns": null,
            "grid_auto_flow": null,
            "grid_auto_rows": null,
            "grid_column": null,
            "grid_gap": null,
            "grid_row": null,
            "grid_template_areas": null,
            "grid_template_columns": null,
            "grid_template_rows": null,
            "height": null,
            "justify_content": null,
            "justify_items": null,
            "left": null,
            "margin": null,
            "max_height": null,
            "max_width": null,
            "min_height": null,
            "min_width": null,
            "object_fit": null,
            "object_position": null,
            "order": null,
            "overflow": null,
            "overflow_x": null,
            "overflow_y": null,
            "padding": null,
            "right": null,
            "top": null,
            "visibility": null,
            "width": null
          }
        },
        "46190f96bb0f4161995b5a334b621f7e": {
          "model_module": "@jupyter-widgets/base",
          "model_name": "LayoutModel",
          "model_module_version": "1.2.0",
          "state": {
            "_model_module": "@jupyter-widgets/base",
            "_model_module_version": "1.2.0",
            "_model_name": "LayoutModel",
            "_view_count": null,
            "_view_module": "@jupyter-widgets/base",
            "_view_module_version": "1.2.0",
            "_view_name": "LayoutView",
            "align_content": null,
            "align_items": null,
            "align_self": null,
            "border": null,
            "bottom": null,
            "display": null,
            "flex": null,
            "flex_flow": null,
            "grid_area": null,
            "grid_auto_columns": null,
            "grid_auto_flow": null,
            "grid_auto_rows": null,
            "grid_column": null,
            "grid_gap": null,
            "grid_row": null,
            "grid_template_areas": null,
            "grid_template_columns": null,
            "grid_template_rows": null,
            "height": null,
            "justify_content": null,
            "justify_items": null,
            "left": null,
            "margin": null,
            "max_height": null,
            "max_width": null,
            "min_height": null,
            "min_width": null,
            "object_fit": null,
            "object_position": null,
            "order": null,
            "overflow": null,
            "overflow_x": null,
            "overflow_y": null,
            "padding": null,
            "right": null,
            "top": null,
            "visibility": null,
            "width": null
          }
        },
        "6a9fd99613224e7c95ef59a319486b65": {
          "model_module": "@jupyter-widgets/controls",
          "model_name": "DescriptionStyleModel",
          "model_module_version": "1.5.0",
          "state": {
            "_model_module": "@jupyter-widgets/controls",
            "_model_module_version": "1.5.0",
            "_model_name": "DescriptionStyleModel",
            "_view_count": null,
            "_view_module": "@jupyter-widgets/base",
            "_view_module_version": "1.2.0",
            "_view_name": "StyleView",
            "description_width": ""
          }
        },
        "ddc115b0ffef4259b88d73d78d455107": {
          "model_module": "@jupyter-widgets/base",
          "model_name": "LayoutModel",
          "model_module_version": "1.2.0",
          "state": {
            "_model_module": "@jupyter-widgets/base",
            "_model_module_version": "1.2.0",
            "_model_name": "LayoutModel",
            "_view_count": null,
            "_view_module": "@jupyter-widgets/base",
            "_view_module_version": "1.2.0",
            "_view_name": "LayoutView",
            "align_content": null,
            "align_items": null,
            "align_self": null,
            "border": null,
            "bottom": null,
            "display": null,
            "flex": null,
            "flex_flow": null,
            "grid_area": null,
            "grid_auto_columns": null,
            "grid_auto_flow": null,
            "grid_auto_rows": null,
            "grid_column": null,
            "grid_gap": null,
            "grid_row": null,
            "grid_template_areas": null,
            "grid_template_columns": null,
            "grid_template_rows": null,
            "height": null,
            "justify_content": null,
            "justify_items": null,
            "left": null,
            "margin": null,
            "max_height": null,
            "max_width": null,
            "min_height": null,
            "min_width": null,
            "object_fit": null,
            "object_position": null,
            "order": null,
            "overflow": null,
            "overflow_x": null,
            "overflow_y": null,
            "padding": null,
            "right": null,
            "top": null,
            "visibility": null,
            "width": null
          }
        },
        "a0e07fc9a5ac47b692d1cc5b0e9d3b23": {
          "model_module": "@jupyter-widgets/controls",
          "model_name": "ProgressStyleModel",
          "model_module_version": "1.5.0",
          "state": {
            "_model_module": "@jupyter-widgets/controls",
            "_model_module_version": "1.5.0",
            "_model_name": "ProgressStyleModel",
            "_view_count": null,
            "_view_module": "@jupyter-widgets/base",
            "_view_module_version": "1.2.0",
            "_view_name": "StyleView",
            "bar_color": null,
            "description_width": ""
          }
        },
        "28a1d330459149aead9e0fc4521d8f32": {
          "model_module": "@jupyter-widgets/base",
          "model_name": "LayoutModel",
          "model_module_version": "1.2.0",
          "state": {
            "_model_module": "@jupyter-widgets/base",
            "_model_module_version": "1.2.0",
            "_model_name": "LayoutModel",
            "_view_count": null,
            "_view_module": "@jupyter-widgets/base",
            "_view_module_version": "1.2.0",
            "_view_name": "LayoutView",
            "align_content": null,
            "align_items": null,
            "align_self": null,
            "border": null,
            "bottom": null,
            "display": null,
            "flex": null,
            "flex_flow": null,
            "grid_area": null,
            "grid_auto_columns": null,
            "grid_auto_flow": null,
            "grid_auto_rows": null,
            "grid_column": null,
            "grid_gap": null,
            "grid_row": null,
            "grid_template_areas": null,
            "grid_template_columns": null,
            "grid_template_rows": null,
            "height": null,
            "justify_content": null,
            "justify_items": null,
            "left": null,
            "margin": null,
            "max_height": null,
            "max_width": null,
            "min_height": null,
            "min_width": null,
            "object_fit": null,
            "object_position": null,
            "order": null,
            "overflow": null,
            "overflow_x": null,
            "overflow_y": null,
            "padding": null,
            "right": null,
            "top": null,
            "visibility": null,
            "width": null
          }
        },
        "4acb872b2f6c4144a0ba451d4247b065": {
          "model_module": "@jupyter-widgets/controls",
          "model_name": "DescriptionStyleModel",
          "model_module_version": "1.5.0",
          "state": {
            "_model_module": "@jupyter-widgets/controls",
            "_model_module_version": "1.5.0",
            "_model_name": "DescriptionStyleModel",
            "_view_count": null,
            "_view_module": "@jupyter-widgets/base",
            "_view_module_version": "1.2.0",
            "_view_name": "StyleView",
            "description_width": ""
          }
        }
      }
    }
  },
  "cells": [
    {
      "cell_type": "code",
      "execution_count": null,
      "metadata": {
        "id": "D1fM9bMyccJB",
        "colab": {
          "base_uri": "https://localhost:8080/"
        },
        "outputId": "c014fb91-4f78-4ea2-9924-cb8c0595ee06"
      },
      "outputs": [
        {
          "output_type": "stream",
          "name": "stdout",
          "text": [
            "\u001b[2K   \u001b[90m━━━━━━━━━━━━━━━━━━━━━━━━━━━━━━━━━━━━━━━━\u001b[0m \u001b[32m85.7/85.7 kB\u001b[0m \u001b[31m5.4 MB/s\u001b[0m eta \u001b[36m0:00:00\u001b[0m\n",
            "\u001b[2K   \u001b[90m━━━━━━━━━━━━━━━━━━━━━━━━━━━━━━━━━━━━━━━━\u001b[0m \u001b[32m25.8/25.8 MB\u001b[0m \u001b[31m71.3 MB/s\u001b[0m eta \u001b[36m0:00:00\u001b[0m\n",
            "\u001b[2K   \u001b[90m━━━━━━━━━━━━━━━━━━━━━━━━━━━━━━━━━━━━━━━━\u001b[0m \u001b[32m2.0/2.0 MB\u001b[0m \u001b[31m68.3 MB/s\u001b[0m eta \u001b[36m0:00:00\u001b[0m\n",
            "\u001b[2K   \u001b[90m━━━━━━━━━━━━━━━━━━━━━━━━━━━━━━━━━━━━━━━━\u001b[0m \u001b[32m1.1/1.1 MB\u001b[0m \u001b[31m60.4 MB/s\u001b[0m eta \u001b[36m0:00:00\u001b[0m\n",
            "\u001b[2K   \u001b[90m━━━━━━━━━━━━━━━━━━━━━━━━━━━━━━━━━━━━━━━━\u001b[0m \u001b[32m247.0/247.0 kB\u001b[0m \u001b[31m17.8 MB/s\u001b[0m eta \u001b[36m0:00:00\u001b[0m\n",
            "\u001b[2K   \u001b[90m━━━━━━━━━━━━━━━━━━━━━━━━━━━━━━━━━━━━━━━━\u001b[0m \u001b[32m147.8/147.8 kB\u001b[0m \u001b[31m14.2 MB/s\u001b[0m eta \u001b[36m0:00:00\u001b[0m\n",
            "\u001b[2K   \u001b[90m━━━━━━━━━━━━━━━━━━━━━━━━━━━━━━━━━━━━━━━━\u001b[0m \u001b[32m114.9/114.9 kB\u001b[0m \u001b[31m7.5 MB/s\u001b[0m eta \u001b[36m0:00:00\u001b[0m\n",
            "\u001b[2K   \u001b[90m━━━━━━━━━━━━━━━━━━━━━━━━━━━━━━━━━━━━━━━━\u001b[0m \u001b[32m85.0/85.0 kB\u001b[0m \u001b[31m7.1 MB/s\u001b[0m eta \u001b[36m0:00:00\u001b[0m\n",
            "\u001b[2K   \u001b[90m━━━━━━━━━━━━━━━━━━━━━━━━━━━━━━━━━━━━━━━━\u001b[0m \u001b[32m681.8/681.8 kB\u001b[0m \u001b[31m44.5 MB/s\u001b[0m eta \u001b[36m0:00:00\u001b[0m\n",
            "\u001b[2K   \u001b[90m━━━━━━━━━━━━━━━━━━━━━━━━━━━━━━━━━━━━━━━━\u001b[0m \u001b[32m203.4/203.4 kB\u001b[0m \u001b[31m11.2 MB/s\u001b[0m eta \u001b[36m0:00:00\u001b[0m\n",
            "\u001b[2K   \u001b[90m━━━━━━━━━━━━━━━━━━━━━━━━━━━━━━━━━━━━━━━━\u001b[0m \u001b[32m65.6/65.6 kB\u001b[0m \u001b[31m4.9 MB/s\u001b[0m eta \u001b[36m0:00:00\u001b[0m\n",
            "\u001b[2K   \u001b[90m━━━━━━━━━━━━━━━━━━━━━━━━━━━━━━━━━━━━━━━━\u001b[0m \u001b[32m120.0/120.0 kB\u001b[0m \u001b[31m11.3 MB/s\u001b[0m eta \u001b[36m0:00:00\u001b[0m\n",
            "\u001b[2K   \u001b[90m━━━━━━━━━━━━━━━━━━━━━━━━━━━━━━━━━━━━━━━━\u001b[0m \u001b[32m201.6/201.6 kB\u001b[0m \u001b[31m18.3 MB/s\u001b[0m eta \u001b[36m0:00:00\u001b[0m\n",
            "\u001b[?25h"
          ]
        }
      ],
      "source": [
        "# ==============================================================\n",
        "#  STEP 0  –  Install helper libraries (one-time per session)\n",
        "# ==============================================================\n",
        "\n",
        "!pip install -q kaggle duckdb lightgbm category_encoders shap mlflow fastapi uvicorn"
      ]
    },
    {
      "cell_type": "code",
      "source": [
        "# ==============================================================\n",
        "#  STEP 1  –  Download Lending-Club dataset from Kaggle\n",
        "# ==============================================================\n",
        "import os, glob, re, numpy as np, pandas as pd\n",
        "from sklearn.model_selection import train_test_split"
      ],
      "metadata": {
        "id": "GzdKJ5ShcguA"
      },
      "execution_count": null,
      "outputs": []
    },
    {
      "cell_type": "code",
      "source": [
        "\n",
        "# ▶️  1.1  Add your Kaggle token here (keep it secret!)\n",
        "os.environ['KAGGLE_USERNAME":"<set via env or input() at runtime>" # <––– put your username in quotes\n",
        "os.environ['KAGGLE_KEY":"<set via env or input() at runtime>" # <––– put the long key here"
      ],
      "metadata": {
        "id": "jzHN2Gpmcgrq"
      },
      "execution_count": null,
      "outputs": []
    },
    {
      "cell_type": "code",
      "source": [
        "# ▶️  1.2  Grab the dataset (≈600 MB) and unzip to data/\n",
        "!kaggle datasets download -d wordsforthewise/lending-club -p data --unzip"
      ],
      "metadata": {
        "id": "-NDxyhBAcgpF",
        "colab": {
          "base_uri": "https://localhost:8080/"
        },
        "outputId": "2179ae3c-ee01-4263-b3da-917ad644133a"
      },
      "execution_count": null,
      "outputs": [
        {
          "output_type": "stream",
          "name": "stdout",
          "text": [
            "Dataset URL: https://www.kaggle.com/datasets/wordsforthewise/lending-club\n",
            "License(s): CC0-1.0\n",
            "Downloading lending-club.zip to data\n",
            " 99% 1.25G/1.26G [00:08<00:00, 245MB/s]\n",
            "100% 1.26G/1.26G [00:08<00:00, 154MB/s]\n"
          ]
        }
      ]
    },
    {
      "cell_type": "code",
      "source": [
        "# ==============================================================\n",
        "#  STEP 2  –  Locate the newest accepted-loan file\n",
        "# ==============================================================\n",
        "files = sorted(glob.glob(\"data/**/accepted_*.*\", recursive=True))\n",
        "latest_year = max(int(re.search(r\"accepted_(\\d{4})\", f).group(1)) for f in files)\n",
        "loan_path = next(f for f in files if f\"accepted_{latest_year}\" in f)\n",
        "print(\"Using file:\", loan_path)"
      ],
      "metadata": {
        "id": "conzmb72cgmp",
        "colab": {
          "base_uri": "https://localhost:8080/"
        },
        "outputId": "19afd4ad-7e45-498b-9c24-4924357a85a4"
      },
      "execution_count": null,
      "outputs": [
        {
          "output_type": "stream",
          "name": "stdout",
          "text": [
            "Using file: data/accepted_2007_to_2018Q4.csv.gz\n"
          ]
        }
      ]
    },
    {
      "cell_type": "code",
      "source": [
        "print(df.head(10))"
      ],
      "metadata": {
        "colab": {
          "base_uri": "https://localhost:8080/"
        },
        "id": "-kXJBLeeFmyc",
        "outputId": "6787b7fb-1b99-470e-d7e7-0ee1306e70ef"
      },
      "execution_count": null,
      "outputs": [
        {
          "output_type": "stream",
          "name": "stdout",
          "text": [
            "   annual_inc        term grade sub_grade emp_length home_ownership  \\\n",
            "0     55000.0   36 months     C        C4  10+ years       MORTGAGE   \n",
            "1     65000.0   36 months     C        C1  10+ years       MORTGAGE   \n",
            "2     63000.0   60 months     B        B4  10+ years       MORTGAGE   \n",
            "3    110000.0   60 months     C        C5  10+ years       MORTGAGE   \n",
            "4    104433.0   60 months     F        F1    3 years       MORTGAGE   \n",
            "5     34000.0   36 months     C        C3    4 years           RENT   \n",
            "6    180000.0   36 months     B        B2  10+ years       MORTGAGE   \n",
            "7     85000.0   36 months     B        B1  10+ years       MORTGAGE   \n",
            "8     85000.0   36 months     A        A2    6 years           RENT   \n",
            "9     42000.0   36 months     B        B5  10+ years       MORTGAGE   \n",
            "\n",
            "              purpose    dti  loan_amnt  int_rate  default  \n",
            "0  debt_consolidation   5.91     3600.0     13.99        0  \n",
            "1      small_business  16.06    24700.0     11.99        0  \n",
            "2    home_improvement  10.78    20000.0     10.78        0  \n",
            "3  debt_consolidation  17.06    35000.0     14.85        0  \n",
            "4      major_purchase  25.37    10400.0     22.45        0  \n",
            "5  debt_consolidation  10.20    11950.0     13.44        0  \n",
            "6  debt_consolidation  14.67    20000.0      9.17        0  \n",
            "7      major_purchase  17.61    20000.0      8.49        0  \n",
            "8         credit_card  13.07    10000.0      6.49        0  \n",
            "9         credit_card  34.80     8000.0     11.48        0  \n"
          ]
        }
      ]
    },
    {
      "cell_type": "code",
      "source": [
        "# ==============================================================\n",
        "#  STEP 3  –  Memory-safe load with DuckDB  (200 k rows sample)\n",
        "# ==============================================================\n",
        "\n",
        "import duckdb\n",
        "\n",
        "keep_cols = ['loan_status','annual_inc','term','grade','sub_grade',\n",
        "             'emp_length','home_ownership','purpose','dti',\n",
        "             'loan_amnt','int_rate']\n",
        "\n",
        "query = f\"\"\"\n",
        "SELECT {', '.join(keep_cols)}\n",
        "FROM read_csv_auto('{loan_path}')\n",
        "LIMIT 200000\n",
        "\"\"\"\n",
        "df = duckdb.query(query).to_df()\n",
        "print(\"Rows loaded:\", len(df))\n",
        "\n",
        "# Convert object → category to save RAM\n",
        "for col in df.select_dtypes('object'):\n",
        "    df[col] = df[col].astype('category')\n"
      ],
      "metadata": {
        "id": "Nk3AO0iMcgj8",
        "colab": {
          "base_uri": "https://localhost:8080/"
        },
        "outputId": "bfed98d2-1627-430c-f43f-89f3a4bd64bb"
      },
      "execution_count": null,
      "outputs": [
        {
          "output_type": "stream",
          "name": "stdout",
          "text": [
            "Rows loaded: 200000\n"
          ]
        }
      ]
    },
    {
      "cell_type": "code",
      "source": [
        "# ==============================================================\n",
        "#  STEP 4  –  Create binary target & drop leakage columns\n",
        "# ==============================================================\n",
        "\n",
        "bad_status = {'Charged Off','Default',\n",
        "              'Does not meet the credit policy. Status:Charged Off',\n",
        "              'Late (31-120 days)','Late (16-30 days)','In Grace Period'}\n",
        "\n",
        "df['default'] = df['loan_status'].isin(bad_status).astype(int)\n",
        "df.drop(columns=['loan_status'], inplace=True)\n",
        "\n",
        "y = df['default']\n",
        "X = df.drop(columns=['default'])\n",
        "\n",
        "X_train, X_test, y_train, y_test = train_test_split(\n",
        "    X, y, test_size=0.30, stratify=y, random_state=42)\n",
        "\n",
        "print(\"Train:\", X_train.shape, \"Test:\", X_test.shape)\n"
      ],
      "metadata": {
        "id": "pMvfNeZqcghW",
        "colab": {
          "base_uri": "https://localhost:8080/"
        },
        "outputId": "bb7895d7-da6a-404f-de2b-254cb3873929"
      },
      "execution_count": null,
      "outputs": [
        {
          "output_type": "stream",
          "name": "stdout",
          "text": [
            "Train: (140000, 10) Test: (60000, 10)\n"
          ]
        }
      ]
    },
    {
      "cell_type": "code",
      "source": [
        "# ==============================================================\n",
        "#  STEP 5  –  Encode categoricals with lightweight CountEncoder\n",
        "# ==============================================================\n",
        "\n",
        "from category_encoders import CountEncoder\n",
        "\n",
        "cat_cols = X_train.select_dtypes('category').columns\n",
        "enc = CountEncoder(cols=cat_cols, min_group_size=10)\n",
        "X_train_enc = enc.fit_transform(X_train, y_train)\n",
        "X_test_enc  = enc.transform(X_test)"
      ],
      "metadata": {
        "id": "v2vTBU3ecgey"
      },
      "execution_count": null,
      "outputs": []
    },
    {
      "cell_type": "code",
      "source": [
        "# ==============================================================\n",
        "#  STEP 6  –  Train LightGBM (memory-efficient tree model)\n",
        "# ==============================================================\n",
        "\n",
        "import lightgbm as lgb\n",
        "from sklearn.metrics import roc_auc_score\n",
        "\n",
        "train_set = lgb.Dataset(X_train_enc, y_train, categorical_feature='auto')\n",
        "valid_set = lgb.Dataset(X_test_enc,  y_test,  categorical_feature='auto')\n",
        "\n",
        "# params = dict(objective='binary', metric='auc',\n",
        "#               learning_rate=0.05, num_leaves=31, max_bin=64,\n",
        "#               verbose=-1)\n",
        "params = dict(\n",
        "    objective='binary',    # Predicting 0 or 1 (default or not)\n",
        "    metric='auc',          # We'll evaluate the model using AUC\n",
        "    learning_rate=0.05,    # Smaller = slower but better learning\n",
        "    num_leaves=31,         # Complexity of each decision tree\n",
        "    max_bin=64,            # Controls how finely LightGBM splits numeric features\n",
        "    verbose=-1             # Don’t print too much while training\n",
        "    )\n",
        "\n",
        "model = lgb.train(\n",
        "    params,\n",
        "    train_set,\n",
        "    num_boost_round=600,\n",
        "    valid_sets=[valid_set],\n",
        "    callbacks=[lgb.early_stopping(stopping_rounds=50)]  # ← works on all versions\n",
        ")\n",
        "\n",
        "auc = model.best_score['valid_0']['auc']\n",
        "print(\"Validation AUC:\", auc)\n"
      ],
      "metadata": {
        "id": "LirsHC6nc53l",
        "colab": {
          "base_uri": "https://localhost:8080/"
        },
        "outputId": "9e898382-6577-4c5d-a6fa-3ed320c41e15"
      },
      "execution_count": null,
      "outputs": [
        {
          "output_type": "stream",
          "name": "stdout",
          "text": [
            "Training until validation scores don't improve for 50 rounds\n",
            "Early stopping, best iteration is:\n",
            "[87]\tvalid_0's auc: 0.704143\n",
            "Validation AUC: 0.7041429097154835\n"
          ]
        }
      ]
    },
    {
      "cell_type": "code",
      "source": [
        "# ==============================================================\n",
        "#  STEP 7  –  Explainability with SHAP on a 5 k sample\n",
        "# ==============================================================\n",
        "\n",
        "import shap, matplotlib.pyplot as plt\n",
        "\n",
        "sample_X = X_test_enc.sample(5000, random_state=42)\n",
        "explainer = shap.TreeExplainer(model)\n",
        "shap_values = explainer.shap_values(sample_X)\n",
        "\n",
        "shap.summary_plot(shap_values, sample_X)\n",
        "plt.savefig(\"shap_summary.png\")        # saved for future dashboard"
      ],
      "metadata": {
        "id": "9J95_x26c51Q",
        "colab": {
          "base_uri": "https://localhost:8080/",
          "height": 629
        },
        "outputId": "f48eab20-87cb-4667-d038-7d8b0bfd169e"
      },
      "execution_count": null,
      "outputs": [
        {
          "output_type": "stream",
          "name": "stderr",
          "text": [
            "/usr/local/lib/python3.11/dist-packages/shap/explainers/_tree.py:583: UserWarning: LightGBM binary classifier with TreeExplainer shap values output has changed to a list of ndarray\n",
            "  warnings.warn(\n"
          ]
        },
        {
          "output_type": "display_data",
          "data": {
            "text/plain": [
              "<Figure size 800x550 with 2 Axes>"
            ],
            "image/png": "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\n"
          },
          "metadata": {}
        },
        {
          "output_type": "display_data",
          "data": {
            "text/plain": [
              "<Figure size 640x480 with 0 Axes>"
            ]
          },
          "metadata": {}
        }
      ]
    },
    {
      "cell_type": "code",
      "source": [
        "# ==============================================================\n",
        "#  STEP 8  –  Log model + metric to MLflow (local file store)\n",
        "# ==============================================================\n",
        "\n",
        "import mlflow\n",
        "\n",
        "mlflow.set_tracking_uri(\"file://\" + os.getcwd() + \"/mlruns\")\n",
        "mlflow.set_experiment(\"sme_ca_service\")\n",
        "\n",
        "with mlflow.start_run() as run:\n",
        "    mlflow.lightgbm.log_model(model, \"model\")\n",
        "    mlflow.log_metric(\"auc\", auc)\n",
        "\n",
        "run_id = run.info.run_id\n",
        "print(\"MLflow run ID:\", run_id)\n"
      ],
      "metadata": {
        "id": "E9QECX0rc5yq",
        "colab": {
          "base_uri": "https://localhost:8080/"
        },
        "outputId": "0026891c-9c32-4062-b9a5-a5f6083787f3"
      },
      "execution_count": null,
      "outputs": [
        {
          "output_type": "stream",
          "name": "stderr",
          "text": [
            "2025/08/11 16:42:09 INFO mlflow.tracking.fluent: Experiment with name 'sme_ca_service' does not exist. Creating a new experiment.\n",
            "2025/08/11 16:42:10 WARNING mlflow.models.model: `artifact_path` is deprecated. Please use `name` instead.\n",
            "\u001b[31m2025/08/11 16:42:18 WARNING mlflow.models.model: Model logged without a signature and input example. Please set `input_example` parameter when logging the model to auto infer the model signature.\u001b[0m\n"
          ]
        },
        {
          "output_type": "stream",
          "name": "stdout",
          "text": [
            "MLflow run ID: 6c1ed3a739bc4c68972b7a6e9e9cc0c1\n"
          ]
        }
      ]
    },
    {
      "cell_type": "code",
      "source": [
        "# ==============================================================\n",
        "#  STEP 9  –  Minimal FastAPI scoring service\n",
        "# ==============================================================\n",
        "\n",
        "from fastapi import FastAPI\n",
        "from pydantic import BaseModel\n",
        "import mlflow.pyfunc\n",
        "\n",
        "# Load model back from MLflow\n",
        "model_uri = f\"runs:/{run_id}/model\"\n",
        "model_py  = mlflow.pyfunc.load_model(model_uri)\n",
        "\n",
        "app = FastAPI(title=\"SME Credit-as-a-Service\", version=\"0.1\")\n",
        "\n",
        "# Define expected JSON input (match training features!)\n",
        "class LoanInput(BaseModel):\n",
        "    annual_inc: float\n",
        "    term:     str\n",
        "    grade:    str\n",
        "    sub_grade:str\n",
        "    emp_length:str\n",
        "    home_ownership:str\n",
        "    purpose:  str\n",
        "    dti:      float\n",
        "    loan_amnt:float\n",
        "    int_rate: float\n",
        "\n",
        "@app.post(\"/score\")\n",
        "async def score(input: LoanInput):\n",
        "    import pandas as pd\n",
        "    df_in = pd.DataFrame([input.dict()])\n",
        "    # Apply same CountEncoder mapping\n",
        "    df_enc = enc.transform(df_in)\n",
        "    pd_prob = float(model_py.predict(df_enc)[0])\n",
        "    decision = \"Approve\" if pd_prob < 0.10 else (\"Refer\" if pd_prob < 0.20 else \"Decline\")\n",
        "    return {\"pd\": pd_prob, \"decision\": decision}\n",
        "\n"
      ],
      "metadata": {
        "id": "msV6G4C9c-2G",
        "colab": {
          "base_uri": "https://localhost:8080/",
          "height": 81,
          "referenced_widgets": [
            "315a71a5666d4dfd9369b69e8d33ad89",
            "40b3913f38a94650a3d02258fd7b0c26",
            "e82ae359127a430f8d5a04fc56365e8c",
            "c0d5ab3eaa0d48c992d8bb34bff79868",
            "84ca76e51ccb4595b7509fd15faeef16",
            "f5531e4414ba4658bcc3e7b138ee8c5b",
            "696c5b5401a7495498c63f1c7845a249",
            "cf389789e26842bda3bf2365ff633ac2",
            "19ee5a73b4f145968fb9f9c9ed438521",
            "5bf4f5d362744f7a81723b539dc9aac5",
            "f82d22acc5184230aa3d235b4c63e28e",
            "b769ec73a5ae4527b86973a3ec6ec4b7",
            "12fabd4f4c9d431a8cf1a5415925f701",
            "f06ed3daf48c4e54923293ddd8630988",
            "2f7ca1bacb924b24a92d2930ecce3376",
            "0ab6e167472746c4bdc5022e4f927c04",
            "dbc11726c9b24cdba96d655ded9c2b5b",
            "cf8abf6732b142df823f009d56f15e14",
            "c5b9fb84e1ff4db38d6b15fa8fd898a9",
            "8b84e9d4fc784a4b836ffb583097a996",
            "4e2bba2952c3491abfa9b659ebc8e2db",
            "66fa2e99b28c47ac9a09a573856efd32"
          ]
        },
        "outputId": "3e0ecb7f-70dc-49d7-c322-9394d0cc0d69"
      },
      "execution_count": null,
      "outputs": [
        {
          "output_type": "display_data",
          "data": {
            "text/plain": [
              "Downloading artifacts:   0%|          | 0/1 [00:00<?, ?it/s]"
            ],
            "application/vnd.jupyter.widget-view+json": {
              "version_major": 2,
              "version_minor": 0,
              "model_id": "315a71a5666d4dfd9369b69e8d33ad89"
            }
          },
          "metadata": {}
        },
        {
          "output_type": "display_data",
          "data": {
            "text/plain": [
              "Downloading artifacts:   0%|          | 0/5 [00:00<?, ?it/s]"
            ],
            "application/vnd.jupyter.widget-view+json": {
              "version_major": 2,
              "version_minor": 0,
              "model_id": "b769ec73a5ae4527b86973a3ec6ec4b7"
            }
          },
          "metadata": {}
        }
      ]
    },
    {
      "cell_type": "code",
      "source": [
        "# ▶️  To run locally in a terminal:\n",
        "#     uvicorn filename:app --reload\n",
        "#     (replace 'filename' with your .py script name)"
      ],
      "metadata": {
        "id": "KBOL9lYzc-zw"
      },
      "execution_count": null,
      "outputs": []
    },
    {
      "cell_type": "code",
      "source": [
        "# 1. Save this as api.py\n",
        "from fastapi import FastAPI\n",
        "from pydantic import BaseModel\n",
        "import mlflow.pyfunc, pandas as pd\n",
        "\n",
        "model_uri = f\"runs:/{run_id}/model\"     # use the variable, not a string literal\n",
        "model     = mlflow.pyfunc.load_model(model_uri)\n",
        "\n",
        "class Loan(BaseModel):\n",
        "    annual_inc: float\n",
        "    term: str\n",
        "    grade: str\n",
        "    sub_grade: str\n",
        "    emp_length: str\n",
        "    home_ownership: str\n",
        "    purpose: str\n",
        "    dti: float\n",
        "    loan_amnt: float\n",
        "    int_rate: float\n",
        "\n",
        "@app.post(\"/score\")\n",
        "async def score(loan: Loan):\n",
        "    df = pd.DataFrame([loan.dict()])\n",
        "    pd_prob = float(model.predict(df)[0])\n",
        "    decision = \"Approve\" if pd_prob < 0.10 else (\"Refer\" if pd_prob < 0.20 else \"Decline\")\n",
        "    return {\"pd\": pd_prob, \"decision\": decision}\n"
      ],
      "metadata": {
        "id": "3J-Hz-vKc-xZ",
        "colab": {
          "base_uri": "https://localhost:8080/",
          "height": 81,
          "referenced_widgets": [
            "536a93bc23604105a8d028234db33b18",
            "8c4fe5c6f2644a78a3612185cf1a1176",
            "4d4d584aa5264912ac3e585ccb3a293e",
            "c5a275e5ed0c4f189ac20295eb952d43",
            "5208b4459fbf4834a6b852149d839262",
            "9975d66d7d314b06a46a83711b084d9b",
            "6b3cb7293cd84a4dbb1af65e27ad70d9",
            "eabba00cc0744a7798d4692b25c82b1c",
            "b77ecdc820ab4e5e823f088c5808267b",
            "d8cf04a059cd464c82f871c6a605eff8",
            "3794c68ab3e64ab680568b14cd2791f1",
            "8ac81c1762644c8bb469ebc10ae03f7e",
            "e3628058c0b2406eafd67319623dec47",
            "4e76394f414d4b3496ea801de4c53d76",
            "cdd9642814824d669ac85c794c6db153",
            "0a834a5fce2044ffab2a2f26df5c42a8",
            "46190f96bb0f4161995b5a334b621f7e",
            "6a9fd99613224e7c95ef59a319486b65",
            "ddc115b0ffef4259b88d73d78d455107",
            "a0e07fc9a5ac47b692d1cc5b0e9d3b23",
            "28a1d330459149aead9e0fc4521d8f32",
            "4acb872b2f6c4144a0ba451d4247b065"
          ]
        },
        "outputId": "7385d0c4-3138-4b9e-d4ef-9f8b3704f0ff"
      },
      "execution_count": null,
      "outputs": [
        {
          "output_type": "display_data",
          "data": {
            "text/plain": [
              "Downloading artifacts:   0%|          | 0/1 [00:00<?, ?it/s]"
            ],
            "application/vnd.jupyter.widget-view+json": {
              "version_major": 2,
              "version_minor": 0,
              "model_id": "536a93bc23604105a8d028234db33b18"
            }
          },
          "metadata": {}
        },
        {
          "output_type": "display_data",
          "data": {
            "text/plain": [
              "Downloading artifacts:   0%|          | 0/5 [00:00<?, ?it/s]"
            ],
            "application/vnd.jupyter.widget-view+json": {
              "version_major": 2,
              "version_minor": 0,
              "model_id": "8ac81c1762644c8bb469ebc10ae03f7e"
            }
          },
          "metadata": {}
        }
      ]
    },
    {
      "cell_type": "code",
      "source": [
        "# Install MLflow into the active environment\n",
        "!pip install mlflow           # add -q for quiet mode if you like\n",
        "\n",
        "# Now import and search for runs\n",
        "import mlflow\n",
        "runs = mlflow.search_runs(experiment_names=[\"sme_ca_service\"],\n",
        "                          order_by=[\"start_time DESC\"], max_results=5)\n",
        "print(runs[[\"run_id\", \"metrics.auc\", \"start_time\"]])\n"
      ],
      "metadata": {
        "id": "pmTqPTeIY3XE",
        "colab": {
          "base_uri": "https://localhost:8080/"
        },
        "outputId": "b7239659-704a-4796-8655-a48f62b6361a"
      },
      "execution_count": null,
      "outputs": [
        {
          "output_type": "stream",
          "name": "stdout",
          "text": [
            "Requirement already satisfied: mlflow in /usr/local/lib/python3.11/dist-packages (3.2.0)\n",
            "Requirement already satisfied: mlflow-skinny==3.2.0 in /usr/local/lib/python3.11/dist-packages (from mlflow) (3.2.0)\n",
            "Requirement already satisfied: mlflow-tracing==3.2.0 in /usr/local/lib/python3.11/dist-packages (from mlflow) (3.2.0)\n",
            "Requirement already satisfied: Flask<4 in /usr/local/lib/python3.11/dist-packages (from mlflow) (3.1.1)\n",
            "Requirement already satisfied: alembic!=1.10.0,<2 in /usr/local/lib/python3.11/dist-packages (from mlflow) (1.16.4)\n",
            "Requirement already satisfied: docker<8,>=4.0.0 in /usr/local/lib/python3.11/dist-packages (from mlflow) (7.1.0)\n",
            "Requirement already satisfied: graphene<4 in /usr/local/lib/python3.11/dist-packages (from mlflow) (3.4.3)\n",
            "Requirement already satisfied: gunicorn<24 in /usr/local/lib/python3.11/dist-packages (from mlflow) (23.0.0)\n",
            "Requirement already satisfied: matplotlib<4 in /usr/local/lib/python3.11/dist-packages (from mlflow) (3.10.0)\n",
            "Requirement already satisfied: numpy<3 in /usr/local/lib/python3.11/dist-packages (from mlflow) (2.0.2)\n",
            "Requirement already satisfied: pandas<3 in /usr/local/lib/python3.11/dist-packages (from mlflow) (2.2.2)\n",
            "Requirement already satisfied: pyarrow<22,>=4.0.0 in /usr/local/lib/python3.11/dist-packages (from mlflow) (18.1.0)\n",
            "Requirement already satisfied: scikit-learn<2 in /usr/local/lib/python3.11/dist-packages (from mlflow) (1.6.1)\n",
            "Requirement already satisfied: scipy<2 in /usr/local/lib/python3.11/dist-packages (from mlflow) (1.16.1)\n",
            "Requirement already satisfied: sqlalchemy<3,>=1.4.0 in /usr/local/lib/python3.11/dist-packages (from mlflow) (2.0.42)\n",
            "Requirement already satisfied: cachetools<7,>=5.0.0 in /usr/local/lib/python3.11/dist-packages (from mlflow-skinny==3.2.0->mlflow) (5.5.2)\n",
            "Requirement already satisfied: click<9,>=7.0 in /usr/local/lib/python3.11/dist-packages (from mlflow-skinny==3.2.0->mlflow) (8.2.1)\n",
            "Requirement already satisfied: cloudpickle<4 in /usr/local/lib/python3.11/dist-packages (from mlflow-skinny==3.2.0->mlflow) (3.1.1)\n",
            "Requirement already satisfied: databricks-sdk<1,>=0.20.0 in /usr/local/lib/python3.11/dist-packages (from mlflow-skinny==3.2.0->mlflow) (0.62.0)\n",
            "Requirement already satisfied: fastapi<1 in /usr/local/lib/python3.11/dist-packages (from mlflow-skinny==3.2.0->mlflow) (0.116.1)\n",
            "Requirement already satisfied: gitpython<4,>=3.1.9 in /usr/local/lib/python3.11/dist-packages (from mlflow-skinny==3.2.0->mlflow) (3.1.45)\n",
            "Requirement already satisfied: importlib_metadata!=4.7.0,<9,>=3.7.0 in /usr/local/lib/python3.11/dist-packages (from mlflow-skinny==3.2.0->mlflow) (8.7.0)\n",
            "Requirement already satisfied: opentelemetry-api<3,>=1.9.0 in /usr/local/lib/python3.11/dist-packages (from mlflow-skinny==3.2.0->mlflow) (1.36.0)\n",
            "Requirement already satisfied: opentelemetry-sdk<3,>=1.9.0 in /usr/local/lib/python3.11/dist-packages (from mlflow-skinny==3.2.0->mlflow) (1.36.0)\n",
            "Requirement already satisfied: packaging<26 in /usr/local/lib/python3.11/dist-packages (from mlflow-skinny==3.2.0->mlflow) (25.0)\n",
            "Requirement already satisfied: protobuf<7,>=3.12.0 in /usr/local/lib/python3.11/dist-packages (from mlflow-skinny==3.2.0->mlflow) (5.29.5)\n",
            "Requirement already satisfied: pydantic<3,>=1.10.8 in /usr/local/lib/python3.11/dist-packages (from mlflow-skinny==3.2.0->mlflow) (2.11.7)\n",
            "Requirement already satisfied: pyyaml<7,>=5.1 in /usr/local/lib/python3.11/dist-packages (from mlflow-skinny==3.2.0->mlflow) (6.0.2)\n",
            "Requirement already satisfied: requests<3,>=2.17.3 in /usr/local/lib/python3.11/dist-packages (from mlflow-skinny==3.2.0->mlflow) (2.32.3)\n",
            "Requirement already satisfied: sqlparse<1,>=0.4.0 in /usr/local/lib/python3.11/dist-packages (from mlflow-skinny==3.2.0->mlflow) (0.5.3)\n",
            "Requirement already satisfied: typing-extensions<5,>=4.0.0 in /usr/local/lib/python3.11/dist-packages (from mlflow-skinny==3.2.0->mlflow) (4.14.1)\n",
            "Requirement already satisfied: uvicorn<1 in /usr/local/lib/python3.11/dist-packages (from mlflow-skinny==3.2.0->mlflow) (0.35.0)\n",
            "Requirement already satisfied: Mako in /usr/lib/python3/dist-packages (from alembic!=1.10.0,<2->mlflow) (1.1.3)\n",
            "Requirement already satisfied: urllib3>=1.26.0 in /usr/local/lib/python3.11/dist-packages (from docker<8,>=4.0.0->mlflow) (2.5.0)\n",
            "Requirement already satisfied: blinker>=1.9.0 in /usr/local/lib/python3.11/dist-packages (from Flask<4->mlflow) (1.9.0)\n",
            "Requirement already satisfied: itsdangerous>=2.2.0 in /usr/local/lib/python3.11/dist-packages (from Flask<4->mlflow) (2.2.0)\n",
            "Requirement already satisfied: jinja2>=3.1.2 in /usr/local/lib/python3.11/dist-packages (from Flask<4->mlflow) (3.1.6)\n",
            "Requirement already satisfied: markupsafe>=2.1.1 in /usr/local/lib/python3.11/dist-packages (from Flask<4->mlflow) (3.0.2)\n",
            "Requirement already satisfied: werkzeug>=3.1.0 in /usr/local/lib/python3.11/dist-packages (from Flask<4->mlflow) (3.1.3)\n",
            "Requirement already satisfied: graphql-core<3.3,>=3.1 in /usr/local/lib/python3.11/dist-packages (from graphene<4->mlflow) (3.2.6)\n",
            "Requirement already satisfied: graphql-relay<3.3,>=3.1 in /usr/local/lib/python3.11/dist-packages (from graphene<4->mlflow) (3.2.0)\n",
            "Requirement already satisfied: python-dateutil<3,>=2.7.0 in /usr/local/lib/python3.11/dist-packages (from graphene<4->mlflow) (2.9.0.post0)\n",
            "Requirement already satisfied: contourpy>=1.0.1 in /usr/local/lib/python3.11/dist-packages (from matplotlib<4->mlflow) (1.3.3)\n",
            "Requirement already satisfied: cycler>=0.10 in /usr/local/lib/python3.11/dist-packages (from matplotlib<4->mlflow) (0.12.1)\n",
            "Requirement already satisfied: fonttools>=4.22.0 in /usr/local/lib/python3.11/dist-packages (from matplotlib<4->mlflow) (4.59.0)\n",
            "Requirement already satisfied: kiwisolver>=1.3.1 in /usr/local/lib/python3.11/dist-packages (from matplotlib<4->mlflow) (1.4.8)\n",
            "Requirement already satisfied: pillow>=8 in /usr/local/lib/python3.11/dist-packages (from matplotlib<4->mlflow) (11.3.0)\n",
            "Requirement already satisfied: pyparsing>=2.3.1 in /usr/local/lib/python3.11/dist-packages (from matplotlib<4->mlflow) (3.2.3)\n",
            "Requirement already satisfied: pytz>=2020.1 in /usr/local/lib/python3.11/dist-packages (from pandas<3->mlflow) (2025.2)\n",
            "Requirement already satisfied: tzdata>=2022.7 in /usr/local/lib/python3.11/dist-packages (from pandas<3->mlflow) (2025.2)\n",
            "Requirement already satisfied: joblib>=1.2.0 in /usr/local/lib/python3.11/dist-packages (from scikit-learn<2->mlflow) (1.5.1)\n",
            "Requirement already satisfied: threadpoolctl>=3.1.0 in /usr/local/lib/python3.11/dist-packages (from scikit-learn<2->mlflow) (3.6.0)\n",
            "Requirement already satisfied: greenlet>=1 in /usr/local/lib/python3.11/dist-packages (from sqlalchemy<3,>=1.4.0->mlflow) (3.2.3)\n",
            "Requirement already satisfied: google-auth~=2.0 in /usr/local/lib/python3.11/dist-packages (from databricks-sdk<1,>=0.20.0->mlflow-skinny==3.2.0->mlflow) (2.38.0)\n",
            "Requirement already satisfied: starlette<0.48.0,>=0.40.0 in /usr/local/lib/python3.11/dist-packages (from fastapi<1->mlflow-skinny==3.2.0->mlflow) (0.47.2)\n",
            "Requirement already satisfied: gitdb<5,>=4.0.1 in /usr/local/lib/python3.11/dist-packages (from gitpython<4,>=3.1.9->mlflow-skinny==3.2.0->mlflow) (4.0.12)\n",
            "Requirement already satisfied: zipp>=3.20 in /usr/local/lib/python3.11/dist-packages (from importlib_metadata!=4.7.0,<9,>=3.7.0->mlflow-skinny==3.2.0->mlflow) (3.23.0)\n",
            "Requirement already satisfied: opentelemetry-semantic-conventions==0.57b0 in /usr/local/lib/python3.11/dist-packages (from opentelemetry-sdk<3,>=1.9.0->mlflow-skinny==3.2.0->mlflow) (0.57b0)\n",
            "Requirement already satisfied: annotated-types>=0.6.0 in /usr/local/lib/python3.11/dist-packages (from pydantic<3,>=1.10.8->mlflow-skinny==3.2.0->mlflow) (0.7.0)\n",
            "Requirement already satisfied: pydantic-core==2.33.2 in /usr/local/lib/python3.11/dist-packages (from pydantic<3,>=1.10.8->mlflow-skinny==3.2.0->mlflow) (2.33.2)\n",
            "Requirement already satisfied: typing-inspection>=0.4.0 in /usr/local/lib/python3.11/dist-packages (from pydantic<3,>=1.10.8->mlflow-skinny==3.2.0->mlflow) (0.4.1)\n",
            "Requirement already satisfied: six>=1.5 in /usr/local/lib/python3.11/dist-packages (from python-dateutil<3,>=2.7.0->graphene<4->mlflow) (1.17.0)\n",
            "Requirement already satisfied: charset-normalizer<4,>=2 in /usr/local/lib/python3.11/dist-packages (from requests<3,>=2.17.3->mlflow-skinny==3.2.0->mlflow) (3.4.2)\n",
            "Requirement already satisfied: idna<4,>=2.5 in /usr/local/lib/python3.11/dist-packages (from requests<3,>=2.17.3->mlflow-skinny==3.2.0->mlflow) (3.10)\n",
            "Requirement already satisfied: certifi>=2017.4.17 in /usr/local/lib/python3.11/dist-packages (from requests<3,>=2.17.3->mlflow-skinny==3.2.0->mlflow) (2025.8.3)\n",
            "Requirement already satisfied: h11>=0.8 in /usr/local/lib/python3.11/dist-packages (from uvicorn<1->mlflow-skinny==3.2.0->mlflow) (0.16.0)\n",
            "Requirement already satisfied: smmap<6,>=3.0.1 in /usr/local/lib/python3.11/dist-packages (from gitdb<5,>=4.0.1->gitpython<4,>=3.1.9->mlflow-skinny==3.2.0->mlflow) (5.0.2)\n",
            "Requirement already satisfied: pyasn1-modules>=0.2.1 in /usr/local/lib/python3.11/dist-packages (from google-auth~=2.0->databricks-sdk<1,>=0.20.0->mlflow-skinny==3.2.0->mlflow) (0.4.2)\n",
            "Requirement already satisfied: rsa<5,>=3.1.4 in /usr/local/lib/python3.11/dist-packages (from google-auth~=2.0->databricks-sdk<1,>=0.20.0->mlflow-skinny==3.2.0->mlflow) (4.9.1)\n",
            "Requirement already satisfied: anyio<5,>=3.6.2 in /usr/local/lib/python3.11/dist-packages (from starlette<0.48.0,>=0.40.0->fastapi<1->mlflow-skinny==3.2.0->mlflow) (4.10.0)\n",
            "Requirement already satisfied: sniffio>=1.1 in /usr/local/lib/python3.11/dist-packages (from anyio<5,>=3.6.2->starlette<0.48.0,>=0.40.0->fastapi<1->mlflow-skinny==3.2.0->mlflow) (1.3.1)\n",
            "Requirement already satisfied: pyasn1<0.7.0,>=0.6.1 in /usr/local/lib/python3.11/dist-packages (from pyasn1-modules>=0.2.1->google-auth~=2.0->databricks-sdk<1,>=0.20.0->mlflow-skinny==3.2.0->mlflow) (0.6.1)\n",
            "                             run_id  metrics.auc  \\\n",
            "0  6c1ed3a739bc4c68972b7a6e9e9cc0c1     0.704143   \n",
            "\n",
            "                        start_time  \n",
            "0 2025-08-11 16:42:10.041000+00:00  \n"
          ]
        }
      ]
    },
    {
      "cell_type": "code",
      "source": [
        "# Compress the directory that holds your run\n",
        "!zip -r mlruns.zip mlruns\n"
      ],
      "metadata": {
        "id": "jfwMt-d4KVrr",
        "colab": {
          "base_uri": "https://localhost:8080/"
        },
        "outputId": "4bd05e7d-592c-44ed-b8ef-3b7ea3f5925e"
      },
      "execution_count": null,
      "outputs": [
        {
          "output_type": "stream",
          "name": "stdout",
          "text": [
            "  adding: mlruns/ (stored 0%)\n",
            "  adding: mlruns/0/ (stored 0%)\n",
            "  adding: mlruns/0/meta.yaml (deflated 24%)\n",
            "  adding: mlruns/819301028016621624/ (stored 0%)\n",
            "  adding: mlruns/819301028016621624/6c1ed3a739bc4c68972b7a6e9e9cc0c1/ (stored 0%)\n",
            "  adding: mlruns/819301028016621624/6c1ed3a739bc4c68972b7a6e9e9cc0c1/artifacts/ (stored 0%)\n",
            "  adding: mlruns/819301028016621624/6c1ed3a739bc4c68972b7a6e9e9cc0c1/tags/ (stored 0%)\n",
            "  adding: mlruns/819301028016621624/6c1ed3a739bc4c68972b7a6e9e9cc0c1/tags/mlflow.runName (stored 0%)\n",
            "  adding: mlruns/819301028016621624/6c1ed3a739bc4c68972b7a6e9e9cc0c1/tags/mlflow.user (stored 0%)\n",
            "  adding: mlruns/819301028016621624/6c1ed3a739bc4c68972b7a6e9e9cc0c1/tags/mlflow.source.type (stored 0%)\n",
            "  adding: mlruns/819301028016621624/6c1ed3a739bc4c68972b7a6e9e9cc0c1/tags/mlflow.source.name (deflated 5%)\n",
            "  adding: mlruns/819301028016621624/6c1ed3a739bc4c68972b7a6e9e9cc0c1/params/ (stored 0%)\n",
            "  adding: mlruns/819301028016621624/6c1ed3a739bc4c68972b7a6e9e9cc0c1/metrics/ (stored 0%)\n",
            "  adding: mlruns/819301028016621624/6c1ed3a739bc4c68972b7a6e9e9cc0c1/metrics/auc (stored 0%)\n",
            "  adding: mlruns/819301028016621624/6c1ed3a739bc4c68972b7a6e9e9cc0c1/outputs/ (stored 0%)\n",
            "  adding: mlruns/819301028016621624/6c1ed3a739bc4c68972b7a6e9e9cc0c1/outputs/m-6fefbc20805d499aae5dae7adb6c6590/ (stored 0%)\n",
            "  adding: mlruns/819301028016621624/6c1ed3a739bc4c68972b7a6e9e9cc0c1/outputs/m-6fefbc20805d499aae5dae7adb6c6590/meta.yaml (deflated 36%)\n",
            "  adding: mlruns/819301028016621624/6c1ed3a739bc4c68972b7a6e9e9cc0c1/meta.yaml (deflated 40%)\n",
            "  adding: mlruns/819301028016621624/models/ (stored 0%)\n",
            "  adding: mlruns/819301028016621624/models/m-6fefbc20805d499aae5dae7adb6c6590/ (stored 0%)\n",
            "  adding: mlruns/819301028016621624/models/m-6fefbc20805d499aae5dae7adb6c6590/artifacts/ (stored 0%)\n",
            "  adding: mlruns/819301028016621624/models/m-6fefbc20805d499aae5dae7adb6c6590/artifacts/conda.yaml (deflated 44%)\n",
            "  adding: mlruns/819301028016621624/models/m-6fefbc20805d499aae5dae7adb6c6590/artifacts/python_env.yaml (deflated 16%)\n",
            "  adding: mlruns/819301028016621624/models/m-6fefbc20805d499aae5dae7adb6c6590/artifacts/MLmodel (deflated 46%)\n",
            "  adding: mlruns/819301028016621624/models/m-6fefbc20805d499aae5dae7adb6c6590/artifacts/requirements.txt (deflated 34%)\n",
            "  adding: mlruns/819301028016621624/models/m-6fefbc20805d499aae5dae7adb6c6590/artifacts/model.lgb (deflated 61%)\n",
            "  adding: mlruns/819301028016621624/models/m-6fefbc20805d499aae5dae7adb6c6590/tags/ (stored 0%)\n",
            "  adding: mlruns/819301028016621624/models/m-6fefbc20805d499aae5dae7adb6c6590/tags/mlflow.user (stored 0%)\n",
            "  adding: mlruns/819301028016621624/models/m-6fefbc20805d499aae5dae7adb6c6590/tags/mlflow.source.type (stored 0%)\n",
            "  adding: mlruns/819301028016621624/models/m-6fefbc20805d499aae5dae7adb6c6590/tags/mlflow.source.name (deflated 5%)\n",
            "  adding: mlruns/819301028016621624/models/m-6fefbc20805d499aae5dae7adb6c6590/params/ (stored 0%)\n",
            "  adding: mlruns/819301028016621624/models/m-6fefbc20805d499aae5dae7adb6c6590/metrics/ (stored 0%)\n",
            "  adding: mlruns/819301028016621624/models/m-6fefbc20805d499aae5dae7adb6c6590/metrics/auc (deflated 13%)\n",
            "  adding: mlruns/819301028016621624/models/m-6fefbc20805d499aae5dae7adb6c6590/meta.yaml (deflated 41%)\n",
            "  adding: mlruns/819301028016621624/meta.yaml (deflated 32%)\n",
            "  adding: mlruns/.trash/ (stored 0%)\n"
          ]
        }
      ]
    },
    {
      "cell_type": "code",
      "source": [
        "!pwd\n"
      ],
      "metadata": {
        "colab": {
          "base_uri": "https://localhost:8080/"
        },
        "id": "rQEkk8g-KlZy",
        "outputId": "386284aa-5960-4bde-adf3-5aa27175eec0"
      },
      "execution_count": null,
      "outputs": [
        {
          "output_type": "stream",
          "name": "stdout",
          "text": [
            "/content\n"
          ]
        }
      ]
    },
    {
      "cell_type": "code",
      "source": [
        "#Github\n",
        "# ===========================\n",
        "# 🔧 1) CONFIG — EDIT THESE\n",
        "# ===========================\n",
        "\n",
        "\n",
        "# Python variables\n",
        "GITHUB_USERNAME = \"10-kp\"\n",
        "GITHUB_EMAIL = \"kp.10@me.com\"\n",
        "REPO_NAME = \"SME-Credit-Risk-ML\"\n",
        "REPO_PRIVATE = \"false\"\n",
        "GITHUB_TOKEN = \"GITHUB_TOKEN_REDACTED\"\n",
        "NB_PATH = \"/content/CAAS_Low_RAM.ipynb\"\n"
      ],
      "metadata": {
        "id": "WaDLTLiOKlcd"
      },
      "execution_count": null,
      "outputs": []
    },
    {
      "cell_type": "code",
      "source": [
        "#Github\n",
        "GITHUB_USERNAME = \"10-kp\"\n",
        "GITHUB_EMAIL    = \"kp.10@me.com\"\n",
        "REPO_NAME       = \"SME-Credit-Risk-ML\"\n",
        "REPO_PRIVATE    = False"
      ],
      "metadata": {
        "id": "oRf4oyA9Z3dC"
      },
      "execution_count": null,
      "outputs": []
    },
    {
      "cell_type": "code",
      "source": [
        "\n",
        "\n",
        "# --- Enter your token securely (will NOT be saved in the notebook) ---\n",
        "from getpass import getpass\n",
        "GITHUB_TOKEN = getpass(\"GitHub token (classic) with 'repo' scope: \")\n"
      ],
      "metadata": {
        "colab": {
          "base_uri": "https://localhost:8080/"
        },
        "id": "T37ePXpfWO_g",
        "outputId": "441c5ca6-34e7-491c-c851-2afe7f6c4a63"
      },
      "execution_count": null,
      "outputs": [
        {
          "name": "stdout",
          "output_type": "stream",
          "text": [
            "GitHub token (classic) with 'repo' scope: ··········\n"
          ]
        }
      ]
    },
    {
      "cell_type": "code",
      "source": [
        "# Create the repo via API (idempotent-ish: if it already exists you'll get a 422)\n",
        "import requests, json\n",
        "resp = requests.post(\n",
        "    \"https://api.github.com/user/repos\",\n",
        "    headers={\n",
        "        \"Authorization\": f\"token {GITHUB_TOKEN}\",\n",
        "        \"Accept\": \"application/vnd.github+json\",\n",
        "    },\n",
        "    json={\"name\": REPO_NAME, \"private\": REPO_PRIVATE},\n",
        ")\n",
        "print(\"Create repo status:\", resp.status_code)\n",
        "print(resp.json().get(\"full_name\") or resp.json())"
      ],
      "metadata": {
        "colab": {
          "base_uri": "https://localhost:8080/"
        },
        "id": "6y-hO3SrWO8N",
        "outputId": "d923ad36-4820-481c-cddc-70e983f6b66d"
      },
      "execution_count": null,
      "outputs": [
        {
          "output_type": "stream",
          "name": "stdout",
          "text": [
            "Create repo status: 201\n",
            "10-kp/SME-Credit-Risk-ML\n"
          ]
        }
      ]
    },
    {
      "cell_type": "code",
      "source": [
        "# Git identity\n",
        "!git config --global user.name \"{GITHUB_USERNAME}\"\n",
        "!git config --global user.email \"{GITHUB_EMAIL}\"\n",
        "\n",
        "# Clone (token included in URL so it works for private repos too)\n",
        "!git clone https://{GITHUB_TOKEN}@github.com/{GITHUB_USERNAME}/{REPO_NAME}.git\n"
      ],
      "metadata": {
        "colab": {
          "base_uri": "https://localhost:8080/"
        },
        "id": "umaQVVHQWO51",
        "outputId": "f9a39496-50db-4280-d960-16d970450ea7"
      },
      "execution_count": null,
      "outputs": [
        {
          "output_type": "stream",
          "name": "stdout",
          "text": [
            "Cloning into 'SME-Credit-Risk-ML'...\n",
            "warning: You appear to have cloned an empty repository.\n"
          ]
        }
      ]
    },
    {
      "cell_type": "code",
      "source": [
        "%cd SME-Credit-Risk-ML\n"
      ],
      "metadata": {
        "colab": {
          "base_uri": "https://localhost:8080/"
        },
        "id": "jEBbVcZxbMb7",
        "outputId": "005404bf-1421-4827-90e4-06262364f932"
      },
      "execution_count": null,
      "outputs": [
        {
          "output_type": "stream",
          "name": "stdout",
          "text": [
            "/content/SME-Credit-Risk-ML\n"
          ]
        }
      ]
    },
    {
      "cell_type": "code",
      "source": [
        "!mkdir notebooks src configs api artifacts"
      ],
      "metadata": {
        "id": "RFA4ClVdbMZ1"
      },
      "execution_count": null,
      "outputs": []
    },
    {
      "cell_type": "code",
      "source": [
        "!mv /content/CAAS_Low_RAM.ipynb notebooks/"
      ],
      "metadata": {
        "colab": {
          "base_uri": "https://localhost:8080/"
        },
        "id": "NMP3IzQ0bMXe",
        "outputId": "dcf39692-1032-48b4-8c57-37cdfda3ac91"
      },
      "execution_count": null,
      "outputs": [
        {
          "output_type": "stream",
          "name": "stdout",
          "text": [
            "mv: cannot stat '/content/CAAS_Low_RAM.ipynb': No such file or directory\n"
          ]
        }
      ]
    },
    {
      "cell_type": "code",
      "source": [
        "# create .gitignore\n",
        "%%bash\n",
        "cat > .gitignore << 'EOF'\n",
        "__pycache__/\n",
        "*.pyc\n",
        ".env\n",
        "*.env\n",
        "data/\n",
        "artifacts/\n",
        "mlruns/\n",
        "*.png\n",
        "*.joblib\n",
        "*.pkl\n",
        ".ipynb_checkpoints/\n",
        "EOF"
      ],
      "metadata": {
        "id": "EJApgDZmbMVB"
      },
      "execution_count": null,
      "outputs": []
    },
    {
      "cell_type": "code",
      "source": [
        "# create README\n",
        "%%bash\n",
        "cat > README.md << 'EOF'\n",
        "# SME Credit Risk: From Raw Data to Explainable API\n",
        "\n",
        "End-to-end credit scoring pipeline using LightGBM + SHAP + MLflow + FastAPI.\n",
        "\n",
        "EOF\n"
      ],
      "metadata": {
        "id": "FwjmkoukbMSj"
      },
      "execution_count": null,
      "outputs": []
    },
    {
      "cell_type": "code",
      "source": [
        "!git add .\n",
        "!git commit -m \"Initial commit with structure and notebook\"\n",
        "!git push origin main\n"
      ],
      "metadata": {
        "colab": {
          "base_uri": "https://localhost:8080/"
        },
        "id": "u8CLQD8DbMQT",
        "outputId": "57361e6f-7dba-45d6-8e6a-5abdb14c551e"
      },
      "execution_count": null,
      "outputs": [
        {
          "output_type": "stream",
          "name": "stdout",
          "text": [
            "[main (root-commit) 5253766] Initial commit with structure and notebook\n",
            " 2 files changed, 15 insertions(+)\n",
            " create mode 100644 .gitignore\n",
            " create mode 100644 README.md\n",
            "Enumerating objects: 4, done.\n",
            "Counting objects: 100% (4/4), done.\n",
            "Delta compression using up to 2 threads\n",
            "Compressing objects: 100% (4/4), done.\n",
            "Writing objects: 100% (4/4), 465 bytes | 465.00 KiB/s, done.\n",
            "Total 4 (delta 0), reused 0 (delta 0), pack-reused 0\n",
            "To https://github.com/10-kp/SME-Credit-Risk-ML.git\n",
            " * [new branch]      main -> main\n"
          ]
        }
      ]
    },
    {
      "cell_type": "code",
      "source": [
        "!git branch -M main\n",
        "!git push -u origin main\n"
      ],
      "metadata": {
        "colab": {
          "base_uri": "https://localhost:8080/"
        },
        "id": "TLQyCPmxc6Ha",
        "outputId": "c136422a-c1ec-4281-bb28-4ab8f21f2e78"
      },
      "execution_count": null,
      "outputs": [
        {
          "output_type": "stream",
          "name": "stdout",
          "text": [
            "Branch 'main' set up to track remote branch 'main' from 'origin'.\n",
            "Everything up-to-date\n"
          ]
        }
      ]
    },
    {
      "cell_type": "code",
      "source": [
        "!pwd\n"
      ],
      "metadata": {
        "colab": {
          "base_uri": "https://localhost:8080/"
        },
        "id": "hhj8jwRHc6Kd",
        "outputId": "b65ae10f-ec89-4c82-f032-8e8f404e3a26"
      },
      "execution_count": null,
      "outputs": [
        {
          "output_type": "stream",
          "name": "stdout",
          "text": [
            "/content/SME-Credit-Risk-ML\n"
          ]
        }
      ]
    },
    {
      "cell_type": "code",
      "source": [
        "!ls -a\n",
        "\n",
        "\n",
        "\n"
      ],
      "metadata": {
        "colab": {
          "base_uri": "https://localhost:8080/"
        },
        "id": "fHRfy0sec6RJ",
        "outputId": "4d73f0a7-d87d-4aac-8f9c-9a3727f84261"
      },
      "execution_count": null,
      "outputs": [
        {
          "output_type": "stream",
          "name": "stdout",
          "text": [
            ".  ..  api  artifacts  configs\t.git  .gitignore  notebooks  README.md\tsrc\n"
          ]
        }
      ]
    },
    {
      "cell_type": "code",
      "source": [
        "!git add .\n",
        "!git commit -m \"Add initial README and structure\"\n",
        "!git branch -M main\n",
        "!git push origin main\n"
      ],
      "metadata": {
        "colab": {
          "base_uri": "https://localhost:8080/"
        },
        "id": "O6DxrMPbds_D",
        "outputId": "c57316de-c33e-4ca1-cea6-b834a898a5c7"
      },
      "execution_count": null,
      "outputs": [
        {
          "output_type": "stream",
          "name": "stdout",
          "text": [
            "On branch main\n",
            "Your branch is up to date with 'origin/main'.\n",
            "\n",
            "nothing to commit, working tree clean\n",
            "Everything up-to-date\n"
          ]
        }
      ]
    },
    {
      "cell_type": "code",
      "source": [
        "%%bash\n",
        "set -e\n",
        "\n",
        "# 1) README.md (Banking × AI positioning)\n",
        "cat > README.md << 'EOF'\n",
        "# SME Credit Risk: From Raw Data to Explainable API\n",
        "\n",
        "An end‑to‑end, lightweight pipeline to score SME loans using **LightGBM**, explain decisions with **SHAP**, track experiments with **MLflow**, and serve predictions via **FastAPI** — designed for low‑RAM environments using **DuckDB** and efficient categorical handling.\n",
        "\n",
        "## Why this project (Banking × AI)\n",
        "As a corporate banker upskilling in Data Science, this project shows how domain expertise becomes production ML:\n",
        "- **Risk insight →** Estimate Probability of Default (PD) beyond static scorecards.\n",
        "- **Explainability →** SHAP highlights drivers (e.g., `int_rate`, `dti`, `grade`) for model governance & client conversations.\n",
        "- **Ops‑ready →** MLflow tracks models/metrics; FastAPI endpoint supports real‑time scoring.\n",
        "\n",
        "## Data\n",
        "- Source: Lending Club accepted loan files (via Kaggle CLI).\n",
        "- **Not included** in this repo. Reproducible with your own Kaggle credentials.\n",
        "\n",
        "## Pipeline Overview\n",
        "1. **Ingest** with DuckDB (column subset, row cap to manage RAM).\n",
        "2. **Prep**: cast text→`category`, encode categoricals (CountEncoder with rare-category handling).\n",
        "3. **Train**: LightGBM with early stopping; metric = AUC (baseline ~0.70).\n",
        "4. **Explain**: Global summary with SHAP to validate risk drivers.\n",
        "5. **Track**: MLflow (params, metrics, artifacted model).\n",
        "6. **Serve**: FastAPI `/score` endpoint returning `{ \"pd\": ..., \"decision\": ... }`.\n",
        "\n",
        "## Quickstart\n",
        "```bash\n",
        "python -m venv .venv && source .venv/bin/activate\n",
        "pip install -r requirements.txt\n",
        "\n",
        "# (Optional) set Kaggle envs locally:\n",
        "# export KAGGLE_USERNAME=...\n",
        "# export KAGGLE_KEY=...\n",
        "\n",
        "# Train & log model (example structure)\n",
        "# python src/train.py\n",
        "# python src/explain.py\n",
        "# uvicorn src/serve:app --host 0.0.0.0 --port 8000\n"
      ],
      "metadata": {
        "colab": {
          "base_uri": "https://localhost:8080/"
        },
        "id": "44KcnjuPds8l",
        "outputId": "55640661-4b9f-4984-c0eb-0d4a6c2eda87"
      },
      "execution_count": null,
      "outputs": [
        {
          "output_type": "stream",
          "name": "stderr",
          "text": [
            "bash: line 39: warning: here-document at line 4 delimited by end-of-file (wanted `EOF')\n"
          ]
        }
      ]
    },
    {
      "cell_type": "markdown",
      "source": [],
      "metadata": {
        "id": "AZS4Qj1titC1"
      }
    }
  ]
}